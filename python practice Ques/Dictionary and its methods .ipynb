{
 "cells": [
  {
   "cell_type": "markdown",
   "id": "429cb7c1",
   "metadata": {},
   "source": [
    "# dictionary\n",
    "pm : narendra modi\n",
    "\n",
    "{}\n",
    "{key:value}\n",
    "hash value--> key\n",
    "unindexed \n",
    "mutable data type \n",
    "ordered "
   ]
  },
  {
   "cell_type": "code",
   "execution_count": null,
   "id": "66a4ea3f",
   "metadata": {},
   "outputs": [],
   "source": [
    "s = {1,2,3,4}"
   ]
  },
  {
   "cell_type": "code",
   "execution_count": null,
   "id": "ff7e23cb",
   "metadata": {},
   "outputs": [],
   "source": [
    "print(type(s),s)"
   ]
  },
  {
   "cell_type": "code",
   "execution_count": null,
   "id": "0a59a434",
   "metadata": {},
   "outputs": [],
   "source": [
    "data = {'name':'tanish','course':'python','mob':12345678}"
   ]
  },
  {
   "cell_type": "code",
   "execution_count": null,
   "id": "1968974d",
   "metadata": {},
   "outputs": [],
   "source": [
    "print(data)"
   ]
  },
  {
   "cell_type": "code",
   "execution_count": null,
   "id": "4ba41c3e",
   "metadata": {},
   "outputs": [],
   "source": [
    "students = {\n",
    "    1:'gaurav',\n",
    "    2:'shubham',\n",
    "    3:'vikash',\n",
    "    4:'ravi',\n",
    "    5:'deep',\n",
    "    6:'sachin',\n",
    "    7:'ritesh',\n",
    "    8:'aman',\n",
    "    9:'bhati'\n",
    "}"
   ]
  },
  {
   "cell_type": "code",
   "execution_count": null,
   "id": "bcd67a28",
   "metadata": {},
   "outputs": [],
   "source": [
    "print(students)"
   ]
  },
  {
   "cell_type": "code",
   "execution_count": null,
   "id": "ac274e1b",
   "metadata": {},
   "outputs": [],
   "source": []
  },
  {
   "cell_type": "code",
   "execution_count": null,
   "id": "87a77776",
   "metadata": {},
   "outputs": [],
   "source": [
    "data = {\n",
    "    \n",
    "    (1,2,4):'shubham'\n",
    "    \n",
    "}"
   ]
  },
  {
   "cell_type": "code",
   "execution_count": null,
   "id": "631aa57b",
   "metadata": {},
   "outputs": [],
   "source": [
    "s1 = 'gaur@1234av'"
   ]
  },
  {
   "cell_type": "code",
   "execution_count": null,
   "id": "28dd316d",
   "metadata": {},
   "outputs": [],
   "source": [
    "hash(s1)"
   ]
  },
  {
   "cell_type": "code",
   "execution_count": null,
   "id": "2e09769c",
   "metadata": {},
   "outputs": [],
   "source": [
    "a = \"hello\""
   ]
  },
  {
   "cell_type": "code",
   "execution_count": null,
   "id": "eb23d9af",
   "metadata": {},
   "outputs": [],
   "source": [
    "b = \"hello\""
   ]
  },
  {
   "cell_type": "code",
   "execution_count": null,
   "id": "35327d25",
   "metadata": {},
   "outputs": [],
   "source": [
    "print(id(a))"
   ]
  },
  {
   "cell_type": "code",
   "execution_count": null,
   "id": "9d4b6e64",
   "metadata": {},
   "outputs": [],
   "source": [
    "print(id(b))"
   ]
  },
  {
   "cell_type": "code",
   "execution_count": null,
   "id": "e56b85ac",
   "metadata": {},
   "outputs": [],
   "source": [
    "info = {\n",
    "    'name':\"ram,\",\n",
    "    'state':'rajathan',\n",
    "    \"course\":'python',\n",
    "    'mob':123456789\n",
    "}"
   ]
  },
  {
   "cell_type": "code",
   "execution_count": null,
   "id": "e752c431",
   "metadata": {},
   "outputs": [],
   "source": [
    "print(info)"
   ]
  },
  {
   "cell_type": "markdown",
   "id": "e77fb2af",
   "metadata": {},
   "source": [
    "# shallow "
   ]
  },
  {
   "cell_type": "code",
   "execution_count": 8,
   "id": "8480075e",
   "metadata": {},
   "outputs": [
    {
     "name": "stdout",
     "output_type": "stream",
     "text": [
      "2863781118784\n",
      "2863781126848\n",
      "[1, 2, 3, 'tanish', 5]\n",
      "[1, 2, 3, 4, 5]\n"
     ]
    }
   ],
   "source": [
    "lis = [1,2,3,4,5]\n",
    "lis1 = lis.copy()\n",
    "\n",
    "print(id(lis))\n",
    "print(id(lis1))\n",
    "\n",
    "lis1[3]= 'tanish'\n",
    "print(lis1)\n",
    "print(lis)"
   ]
  },
  {
   "cell_type": "markdown",
   "id": "4c184211",
   "metadata": {},
   "source": [
    "# deep copy\n"
   ]
  },
  {
   "cell_type": "code",
   "execution_count": 4,
   "id": "6b3202e9",
   "metadata": {},
   "outputs": [
    {
     "name": "stdout",
     "output_type": "stream",
     "text": [
      "2863781129280\n",
      "2863781129280\n",
      "[1, 2, 'hello world', 4, 5]\n",
      "[1, 2, 'hello world', 4, 5]\n"
     ]
    }
   ],
   "source": [
    "ls = [1,2,3,4,5]\n",
    "ls1 = ls\n",
    "\n",
    "print(id(ls))\n",
    "print(id(ls1))\n",
    "\n",
    "ls[2] ='hello world'\n",
    "\n",
    "\n",
    "\n",
    "print(ls1)\n",
    "print(ls)"
   ]
  },
  {
   "cell_type": "markdown",
   "id": "ace00946",
   "metadata": {},
   "source": [
    "# ````\n",
    "    clear',:--> clear all the key and value from dictionary\n",
    "     'copy', :--> return shallow copy\n",
    "     'fromkeys', :--> new dictionary \n",
    "     'get',:--> value get \n",
    "     'items', :--> list all key and values \n",
    "     'keys',:--> return  all keys\n",
    "     'pop', :--> pop element \n",
    "     'popitem',:--> last item\n",
    "     'setdefault', :-> \n",
    "     'update', :-> \n",
    "     'values':-> return all values "
   ]
  },
  {
   "cell_type": "code",
   "execution_count": 9,
   "id": "d3c019de",
   "metadata": {},
   "outputs": [
    {
     "data": {
      "text/plain": [
       "{'name': 'ram,', 'state': 'rajathan', 'course': 'python', 'mob': 123456789}"
      ]
     },
     "execution_count": 9,
     "metadata": {},
     "output_type": "execute_result"
    }
   ],
   "source": [
    "info"
   ]
  },
  {
   "cell_type": "code",
   "execution_count": 10,
   "id": "e46a0e7d",
   "metadata": {},
   "outputs": [
    {
     "data": {
      "text/plain": [
       "dict_values(['ram,', 'rajathan', 'python', 123456789])"
      ]
     },
     "execution_count": 10,
     "metadata": {},
     "output_type": "execute_result"
    }
   ],
   "source": [
    "info.values()"
   ]
  },
  {
   "cell_type": "markdown",
   "id": "31537cc5",
   "metadata": {},
   "source": [
    "# popitem"
   ]
  },
  {
   "cell_type": "code",
   "execution_count": 11,
   "id": "fe8fbe3a",
   "metadata": {},
   "outputs": [
    {
     "data": {
      "text/plain": [
       "('mob', 123456789)"
      ]
     },
     "execution_count": 11,
     "metadata": {},
     "output_type": "execute_result"
    }
   ],
   "source": [
    "info.popitem()"
   ]
  },
  {
   "cell_type": "markdown",
   "id": "924e3e3e",
   "metadata": {},
   "source": [
    "# pop"
   ]
  },
  {
   "cell_type": "code",
   "execution_count": 12,
   "id": "4f5d1bba",
   "metadata": {},
   "outputs": [
    {
     "data": {
      "text/plain": [
       "'ram,'"
      ]
     },
     "execution_count": 12,
     "metadata": {},
     "output_type": "execute_result"
    }
   ],
   "source": [
    "info.pop(\"name\")"
   ]
  },
  {
   "cell_type": "code",
   "execution_count": 13,
   "id": "25450ddf",
   "metadata": {},
   "outputs": [
    {
     "data": {
      "text/plain": [
       "{'state': 'rajathan', 'course': 'python'}"
      ]
     },
     "execution_count": 13,
     "metadata": {},
     "output_type": "execute_result"
    }
   ],
   "source": [
    "info"
   ]
  },
  {
   "cell_type": "markdown",
   "id": "d2a4b6f8",
   "metadata": {},
   "source": [
    "# \n",
    "    keys',:--> return  all keys"
   ]
  },
  {
   "cell_type": "code",
   "execution_count": 14,
   "id": "a07def6a",
   "metadata": {},
   "outputs": [
    {
     "data": {
      "text/plain": [
       "dict_keys(['state', 'course'])"
      ]
     },
     "execution_count": 14,
     "metadata": {},
     "output_type": "execute_result"
    }
   ],
   "source": [
    "info.keys()"
   ]
  },
  {
   "cell_type": "markdown",
   "id": "628a1f0f",
   "metadata": {},
   "source": [
    "# items\n",
    "    key,values"
   ]
  },
  {
   "cell_type": "code",
   "execution_count": 15,
   "id": "04e534b0",
   "metadata": {},
   "outputs": [
    {
     "data": {
      "text/plain": [
       "dict_items([('state', 'rajathan'), ('course', 'python')])"
      ]
     },
     "execution_count": 15,
     "metadata": {},
     "output_type": "execute_result"
    }
   ],
   "source": [
    "info.items()"
   ]
  },
  {
   "cell_type": "markdown",
   "id": "177d476e",
   "metadata": {},
   "source": [
    "# get "
   ]
  },
  {
   "cell_type": "code",
   "execution_count": 16,
   "id": "d3f9cb6a",
   "metadata": {},
   "outputs": [
    {
     "data": {
      "text/plain": [
       "'isme ye key present nhi hai '"
      ]
     },
     "execution_count": 16,
     "metadata": {},
     "output_type": "execute_result"
    }
   ],
   "source": [
    "info.get(\"gaurav\",'isme ye key present nhi hai ')"
   ]
  },
  {
   "cell_type": "code",
   "execution_count": 17,
   "id": "3a51b4cf",
   "metadata": {},
   "outputs": [
    {
     "data": {
      "text/plain": [
       "{'state': 'rajathan', 'course': 'python'}"
      ]
     },
     "execution_count": 17,
     "metadata": {},
     "output_type": "execute_result"
    }
   ],
   "source": [
    "info"
   ]
  },
  {
   "cell_type": "markdown",
   "id": "2a0fd9d4",
   "metadata": {},
   "source": [
    "# fromkeys"
   ]
  },
  {
   "cell_type": "code",
   "execution_count": 18,
   "id": "041d1f5b",
   "metadata": {},
   "outputs": [
    {
     "data": {
      "text/plain": [
       "{'state': 'rajathan', 'course': 'python'}"
      ]
     },
     "execution_count": 18,
     "metadata": {},
     "output_type": "execute_result"
    }
   ],
   "source": [
    "info"
   ]
  },
  {
   "cell_type": "code",
   "execution_count": 19,
   "id": "cac0e4fb",
   "metadata": {},
   "outputs": [
    {
     "data": {
      "text/plain": [
       "{1: 'hello', 2: 'hello', 3: 'hello', 4: 'hello'}"
      ]
     },
     "execution_count": 19,
     "metadata": {},
     "output_type": "execute_result"
    }
   ],
   "source": [
    "info.fromkeys([1,2,3,4],'hello')"
   ]
  },
  {
   "cell_type": "code",
   "execution_count": 20,
   "id": "9c8cc981",
   "metadata": {},
   "outputs": [],
   "source": [
    "info.clear()"
   ]
  },
  {
   "cell_type": "code",
   "execution_count": 21,
   "id": "7aa7770f",
   "metadata": {},
   "outputs": [
    {
     "data": {
      "text/plain": [
       "{}"
      ]
     },
     "execution_count": 21,
     "metadata": {},
     "output_type": "execute_result"
    }
   ],
   "source": [
    "info"
   ]
  },
  {
   "cell_type": "code",
   "execution_count": 22,
   "id": "078af2c6",
   "metadata": {},
   "outputs": [],
   "source": [
    "students = {\n",
    "    \"s1\":['yash','python','lab2','rajasthan'],\n",
    "    \"s2\":['mahesh','c++','lab1','delhi'],\n",
    "    \"s3\":['sachin','dsa','lab5','alwar']\n",
    "}"
   ]
  },
  {
   "cell_type": "code",
   "execution_count": 23,
   "id": "525462fb",
   "metadata": {},
   "outputs": [
    {
     "data": {
      "text/plain": [
       "{'s1': ['yash', 'python', 'lab2', 'rajasthan'],\n",
       " 's2': ['mahesh', 'c++', 'lab1', 'delhi'],\n",
       " 's3': ['sachin', 'dsa', 'lab5', 'alwar']}"
      ]
     },
     "execution_count": 23,
     "metadata": {},
     "output_type": "execute_result"
    }
   ],
   "source": [
    "students.copy()"
   ]
  },
  {
   "cell_type": "code",
   "execution_count": 24,
   "id": "d126018b",
   "metadata": {},
   "outputs": [
    {
     "name": "stdout",
     "output_type": "stream",
     "text": [
      "Help on built-in function copy:\n",
      "\n",
      "copy(...) method of builtins.dict instance\n",
      "    D.copy() -> a shallow copy of D\n",
      "\n"
     ]
    }
   ],
   "source": [
    "help(students.copy)"
   ]
  },
  {
   "cell_type": "markdown",
   "id": "69a8445d",
   "metadata": {},
   "source": [
    "# \n",
    "    'setdefault', :-> \n",
    "     'update', :-> "
   ]
  },
  {
   "cell_type": "code",
   "execution_count": 25,
   "id": "0b9429a3",
   "metadata": {},
   "outputs": [],
   "source": [
    "info = {\n",
    "    'cake':400,\n",
    "    'momos':200,\n",
    "    'cold-coffe':150\n",
    "}"
   ]
  },
  {
   "cell_type": "code",
   "execution_count": 26,
   "id": "9b86cf15",
   "metadata": {},
   "outputs": [],
   "source": [
    "info.setdefault(\"roti\")"
   ]
  },
  {
   "cell_type": "code",
   "execution_count": 27,
   "id": "933ca85b",
   "metadata": {},
   "outputs": [
    {
     "data": {
      "text/plain": [
       "{'cake': 400, 'momos': 200, 'cold-coffe': 150, 'roti': None}"
      ]
     },
     "execution_count": 27,
     "metadata": {},
     "output_type": "execute_result"
    }
   ],
   "source": [
    "info"
   ]
  },
  {
   "cell_type": "code",
   "execution_count": 28,
   "id": "39884df6",
   "metadata": {},
   "outputs": [],
   "source": [
    "info.update({'curd':124})"
   ]
  },
  {
   "cell_type": "code",
   "execution_count": 29,
   "id": "85e907d5",
   "metadata": {},
   "outputs": [
    {
     "data": {
      "text/plain": [
       "{'cake': 400, 'momos': 200, 'cold-coffe': 150, 'roti': None, 'curd': 124}"
      ]
     },
     "execution_count": 29,
     "metadata": {},
     "output_type": "execute_result"
    }
   ],
   "source": [
    "info"
   ]
  },
  {
   "cell_type": "code",
   "execution_count": 55,
   "id": "8e163aad",
   "metadata": {},
   "outputs": [
    {
     "name": "stdout",
     "output_type": "stream",
     "text": [
      "Help on built-in function setdefault:\n",
      "\n",
      "setdefault(key, default=None, /) method of builtins.dict instance\n",
      "    Insert key with a value of default if key is not in the dictionary.\n",
      "    \n",
      "    Return the value for key if key is in the dictionary, else default.\n",
      "\n"
     ]
    }
   ],
   "source": [
    "help(info.setdefault)"
   ]
  },
  {
   "cell_type": "code",
   "execution_count": 30,
   "id": "aad8a1a5",
   "metadata": {},
   "outputs": [
    {
     "data": {
      "text/plain": [
       "{'s1': ['yash', 'python', 'lab2', 'rajasthan'],\n",
       " 's2': ['mahesh', 'c++', 'lab1', 'delhi'],\n",
       " 's3': ['sachin', 'dsa', 'lab5', 'alwar']}"
      ]
     },
     "execution_count": 30,
     "metadata": {},
     "output_type": "execute_result"
    }
   ],
   "source": [
    "((students))"
   ]
  },
  {
   "cell_type": "code",
   "execution_count": 31,
   "id": "24bfe12f",
   "metadata": {},
   "outputs": [
    {
     "data": {
      "text/plain": [
       "['yash', 'python', 'lab2', 'rajasthan']"
      ]
     },
     "execution_count": 31,
     "metadata": {},
     "output_type": "execute_result"
    }
   ],
   "source": [
    "students.setdefault(\"s1\")"
   ]
  },
  {
   "cell_type": "code",
   "execution_count": 32,
   "id": "f4f814cf",
   "metadata": {},
   "outputs": [
    {
     "data": {
      "text/plain": [
       "['gaurav', 'python', 'lab2', 'madhyapradesh']"
      ]
     },
     "execution_count": 32,
     "metadata": {},
     "output_type": "execute_result"
    }
   ],
   "source": [
    "students.setdefault('s4',['gaurav', 'python', 'lab2', 'madhyapradesh'])"
   ]
  },
  {
   "cell_type": "code",
   "execution_count": 33,
   "id": "e87cbe45",
   "metadata": {},
   "outputs": [
    {
     "data": {
      "text/plain": [
       "['gaurav', 'python', 'lab2', 'madhyapradesh']"
      ]
     },
     "execution_count": 33,
     "metadata": {},
     "output_type": "execute_result"
    }
   ],
   "source": [
    "students.setdefault('s5',['gaurav', 'python', 'lab2', 'madhyapradesh'])"
   ]
  },
  {
   "cell_type": "code",
   "execution_count": null,
   "id": "fa0ff67c",
   "metadata": {},
   "outputs": [],
   "source": [
    "students"
   ]
  },
  {
   "cell_type": "code",
   "execution_count": null,
   "id": "0833f20a",
   "metadata": {},
   "outputs": [],
   "source": [
    "info.fromkeys([\"hello\"],'python')"
   ]
  },
  {
   "cell_type": "code",
   "execution_count": null,
   "id": "d8aa12de",
   "metadata": {},
   "outputs": [],
   "source": [
    "days = {\n",
    "    1:'sunday',\n",
    "    2:'monday',\n",
    "    3:'tue',\n",
    "    4:'wed',\n",
    "    5:'thr',\n",
    "    6:'fri',\n",
    "    7:'sat',\n",
    "    8:'sunday'\n",
    "}\n",
    "\n",
    "\n",
    "day_num = int(input('enter a number of day:-> '))\n",
    "\n",
    "print(days.get(day_num,'Invalid input'))"
   ]
  },
  {
   "cell_type": "code",
   "execution_count": null,
   "id": "88473973",
   "metadata": {},
   "outputs": [],
   "source": [
    "days"
   ]
  },
  {
   "cell_type": "code",
   "execution_count": null,
   "id": "9f739d8b",
   "metadata": {},
   "outputs": [],
   "source": []
  }
 ],
 "metadata": {
  "kernelspec": {
   "display_name": "Python 3 (ipykernel)",
   "language": "python",
   "name": "python3"
  },
  "language_info": {
   "codemirror_mode": {
    "name": "ipython",
    "version": 3
   },
   "file_extension": ".py",
   "mimetype": "text/x-python",
   "name": "python",
   "nbconvert_exporter": "python",
   "pygments_lexer": "ipython3",
   "version": "3.11.5"
  }
 },
 "nbformat": 4,
 "nbformat_minor": 5
}
