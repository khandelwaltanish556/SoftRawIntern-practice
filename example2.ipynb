{
 "cells": [
  {
   "cell_type": "code",
   "execution_count": 3,
   "id": "e4d30014",
   "metadata": {},
   "outputs": [
    {
     "name": "stdout",
     "output_type": "stream",
     "text": [
      "The number of files in 1\n",
      "Contents of the directory: ['Common Files', 'desktop.ini', 'Google', 'Internet Explorer', 'Microsoft Office', 'Microsoft Office 15', 'Microsoft Power BI Desktop', 'ModifiableWindowsApps', 'Realtek', 'Tally', 'Uninstall Information', 'VideoLAN', 'Waves', 'Windows Defender', 'Windows Defender Advanced Threat Protection', 'Windows Mail', 'Windows Media Player', 'Windows NT', 'Windows Photo Viewer', 'Windows Sidebar', 'WindowsApps', 'WindowsPowerShell', 'WinRAR']\n"
     ]
    }
   ],
   "source": [
    "import os\n",
    "\n",
    "def count_files_in_directory(directory_path):\n",
    "    \"\"\"\n",
    "    Returns the number of files in the specified directory (non-recursively).\n",
    "    \"\"\"\n",
    "    file_count = len([f for f in os.listdir(directory_path) if os.path.isfile(os.path.join(directory_path, f))])\n",
    "    directory_contents = os.listdir(directory_path)\n",
    "    return file_count, directory_contents\n",
    "# Test the function with a specific directory\n",
    "directory_path = 'C:\\Program Files'  # Replace with your directory path\n",
    "file_count, directory_contents = count_files_in_directory(directory_path)\n",
    "print(f\"The number of files in {file_count}\")\n",
    "print(\"Contents of the directory:\", directory_contents)"
   ]
  },
  {
   "cell_type": "code",
   "execution_count": null,
   "id": "a0b868d7",
   "metadata": {},
   "outputs": [],
   "source": []
  }
 ],
 "metadata": {
  "kernelspec": {
   "display_name": "Python 3 (ipykernel)",
   "language": "python",
   "name": "python3"
  },
  "language_info": {
   "codemirror_mode": {
    "name": "ipython",
    "version": 3
   },
   "file_extension": ".py",
   "mimetype": "text/x-python",
   "name": "python",
   "nbconvert_exporter": "python",
   "pygments_lexer": "ipython3",
   "version": "3.11.5"
  }
 },
 "nbformat": 4,
 "nbformat_minor": 5
}
