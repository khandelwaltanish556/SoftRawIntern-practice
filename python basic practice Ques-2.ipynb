{
 "cells": [
  {
   "cell_type": "code",
   "execution_count": 1,
   "id": "ff65fdd2",
   "metadata": {},
   "outputs": [
    {
     "name": "stdout",
     "output_type": "stream",
     "text": [
      "3\n",
      "         29 function calls in 0.000 seconds\n",
      "\n",
      "   Ordered by: standard name\n",
      "\n",
      "   ncalls  tottime  percall  cumtime  percall filename:lineno(function)\n",
      "        1    0.000    0.000    0.000    0.000 1162111107.py:4(sum)\n",
      "        1    0.000    0.000    0.000    0.000 <string>:1(<module>)\n",
      "        1    0.000    0.000    0.000    0.000 iostream.py:127(_event_pipe)\n",
      "        1    0.000    0.000    0.000    0.000 iostream.py:243(schedule)\n",
      "        2    0.000    0.000    0.000    0.000 iostream.py:505(_is_master_process)\n",
      "        2    0.000    0.000    0.000    0.000 iostream.py:532(_schedule_flush)\n",
      "        2    0.000    0.000    0.000    0.000 iostream.py:610(write)\n",
      "        1    0.000    0.000    0.000    0.000 socket.py:543(send)\n",
      "        1    0.000    0.000    0.000    0.000 threading.py:1118(_wait_for_tstate_lock)\n",
      "        1    0.000    0.000    0.000    0.000 threading.py:1185(is_alive)\n",
      "        1    0.000    0.000    0.000    0.000 threading.py:568(is_set)\n",
      "        1    0.000    0.000    0.000    0.000 {built-in method builtins.exec}\n",
      "        2    0.000    0.000    0.000    0.000 {built-in method builtins.isinstance}\n",
      "        2    0.000    0.000    0.000    0.000 {built-in method builtins.len}\n",
      "        1    0.000    0.000    0.000    0.000 {built-in method builtins.print}\n",
      "        2    0.000    0.000    0.000    0.000 {built-in method nt.getpid}\n",
      "        2    0.000    0.000    0.000    0.000 {method '__exit__' of '_thread.RLock' objects}\n",
      "        1    0.000    0.000    0.000    0.000 {method 'acquire' of '_thread.lock' objects}\n",
      "        1    0.000    0.000    0.000    0.000 {method 'append' of 'collections.deque' objects}\n",
      "        1    0.000    0.000    0.000    0.000 {method 'disable' of '_lsprof.Profiler' objects}\n",
      "        2    0.000    0.000    0.000    0.000 {method 'write' of '_io.StringIO' objects}\n",
      "\n",
      "\n"
     ]
    }
   ],
   "source": [
    "# Import the cProfile module, which provides a way to profile Python code.\n",
    "import cProfile\n",
    "def sum():\n",
    "    print(1 + 2)\n",
    "cProfile.run('sum()')\n"
   ]
  },
  {
   "cell_type": "code",
   "execution_count": 1,
   "id": "795b215d",
   "metadata": {},
   "outputs": [
    {
     "name": "stderr",
     "output_type": "stream",
     "text": [
      "abc--efg--xyz\n"
     ]
    }
   ],
   "source": [
    "from __future__ import print_function\n",
    "import sys\n",
    "\n",
    "# Define a custom 'eprint' function that prints to the standard error stream.\n",
    "def eprint(*args, **kwargs):\n",
    "    print(*args, file=sys.stderr, **kwargs)\n",
    "\n",
    "# Call the 'eprint' function with the specified arguments and separator.\n",
    "eprint(\"abc\", \"efg\", \"xyz\", sep=\"--\")\n"
   ]
  },
  {
   "cell_type": "code",
   "execution_count": 2,
   "id": "da49b636",
   "metadata": {},
   "outputs": [
    {
     "name": "stdout",
     "output_type": "stream",
     "text": [
      "*----------------------------------*\n",
      "environ({'ALLUSERSPROFILE': 'C:\\\\ProgramData', 'APPDATA': 'C:\\\\Users\\\\DELL\\\\AppData\\\\Roaming', 'COMMONPROGRAMFILES': 'C:\\\\Program Files\\\\Common Files', 'COMMONPROGRAMFILES(X86)': 'C:\\\\Program Files (x86)\\\\Common Files', 'COMMONPROGRAMW6432': 'C:\\\\Program Files\\\\Common Files', 'COMPUTERNAME': 'DESKTOP-J58QNMF', 'COMSPEC': 'C:\\\\Windows\\\\system32\\\\cmd.exe', 'DRIVERDATA': 'C:\\\\Windows\\\\System32\\\\Drivers\\\\DriverData', 'HOMEDRIVE': 'C:', 'HOMEPATH': '\\\\Users\\\\DELL', 'LOCALAPPDATA': 'C:\\\\Users\\\\DELL\\\\AppData\\\\Local', 'LOGONSERVER': '\\\\\\\\DESKTOP-J58QNMF', 'NUMBER_OF_PROCESSORS': '4', 'ONEDRIVE': 'C:\\\\Users\\\\DELL\\\\OneDrive', 'OS': 'Windows_NT', 'PATH': 'C:\\\\ProgramData\\\\anaconda3;C:\\\\ProgramData\\\\anaconda3\\\\Library\\\\mingw-w64\\\\bin;C:\\\\ProgramData\\\\anaconda3\\\\Library\\\\usr\\\\bin;C:\\\\ProgramData\\\\anaconda3\\\\Library\\\\bin;C:\\\\ProgramData\\\\anaconda3\\\\Scripts;C:\\\\Windows\\\\system32;C:\\\\Windows;C:\\\\Windows\\\\System32\\\\Wbem;C:\\\\Windows\\\\System32\\\\WindowsPowerShell\\\\v1.0\\\\;C:\\\\Windows\\\\System32\\\\OpenSSH\\\\;C:\\\\Users\\\\DELL\\\\AppData\\\\Local\\\\Programs\\\\Python\\\\Python312\\\\Scripts\\\\;C:\\\\Users\\\\DELL\\\\AppData\\\\Local\\\\Programs\\\\Python\\\\Python312\\\\;C:\\\\Users\\\\DELL\\\\AppData\\\\Local\\\\Programs\\\\Python\\\\Launcher\\\\;C:\\\\Users\\\\DELL\\\\AppData\\\\Local\\\\Microsoft\\\\WindowsApps;;C:\\\\Users\\\\DELL\\\\AppData\\\\Local\\\\Programs\\\\Microsoft VS Code\\\\bin', 'PATHEXT': '.COM;.EXE;.BAT;.CMD;.VBS;.VBE;.JS;.JSE;.WSF;.WSH;.MSC', 'PROCESSOR_ARCHITECTURE': 'AMD64', 'PROCESSOR_IDENTIFIER': 'Intel64 Family 6 Model 78 Stepping 3, GenuineIntel', 'PROCESSOR_LEVEL': '6', 'PROCESSOR_REVISION': '4e03', 'PROGRAMDATA': 'C:\\\\ProgramData', 'PROGRAMFILES': 'C:\\\\Program Files', 'PROGRAMFILES(X86)': 'C:\\\\Program Files (x86)', 'PROGRAMW6432': 'C:\\\\Program Files', 'PSMODULEPATH': 'C:\\\\Program Files\\\\WindowsPowerShell\\\\Modules;C:\\\\Windows\\\\system32\\\\WindowsPowerShell\\\\v1.0\\\\Modules', 'PUBLIC': 'C:\\\\Users\\\\Public', 'SESSIONNAME': 'Console', 'SYSTEMDRIVE': 'C:', 'SYSTEMROOT': 'C:\\\\Windows', 'TEMP': 'C:\\\\Users\\\\DELL\\\\AppData\\\\Local\\\\Temp', 'TMP': 'C:\\\\Users\\\\DELL\\\\AppData\\\\Local\\\\Temp', 'USERDOMAIN': 'DESKTOP-J58QNMF', 'USERDOMAIN_ROAMINGPROFILE': 'DESKTOP-J58QNMF', 'USERNAME': 'DELL', 'USERPROFILE': 'C:\\\\Users\\\\DELL', 'WINDIR': 'C:\\\\Windows', 'ZES_ENABLE_SYSMAN': '1', 'CONDA_PREFIX': 'C:\\\\ProgramData\\\\anaconda3', 'PYDEVD_USE_FRAME_EVAL': 'NO', 'JPY_INTERRUPT_EVENT': '4600', 'IPY_INTERRUPT_EVENT': '4600', 'JPY_PARENT_PID': '4312', 'TERM': 'xterm-color', 'CLICOLOR': '1', 'FORCE_COLOR': '1', 'CLICOLOR_FORCE': '1', 'PAGER': 'cat', 'GIT_PAGER': 'cat', 'MPLBACKEND': 'module://matplotlib_inline.backend_inline'})\n",
      "*----------------------------------*\n",
      "*----------------------------------*\n",
      "C:\\ProgramData\\anaconda3;C:\\ProgramData\\anaconda3\\Library\\mingw-w64\\bin;C:\\ProgramData\\anaconda3\\Library\\usr\\bin;C:\\ProgramData\\anaconda3\\Library\\bin;C:\\ProgramData\\anaconda3\\Scripts;C:\\Windows\\system32;C:\\Windows;C:\\Windows\\System32\\Wbem;C:\\Windows\\System32\\WindowsPowerShell\\v1.0\\;C:\\Windows\\System32\\OpenSSH\\;C:\\Users\\DELL\\AppData\\Local\\Programs\\Python\\Python312\\Scripts\\;C:\\Users\\DELL\\AppData\\Local\\Programs\\Python\\Python312\\;C:\\Users\\DELL\\AppData\\Local\\Programs\\Python\\Launcher\\;C:\\Users\\DELL\\AppData\\Local\\Microsoft\\WindowsApps;;C:\\Users\\DELL\\AppData\\Local\\Programs\\Microsoft VS Code\\bin\n",
      "*----------------------------------*\n"
     ]
    }
   ],
   "source": [
    "import os\n",
    "print('*----------------------------------*')\n",
    "\n",
    "# Print all environment variables.\n",
    "print(os.environ)\n",
    "\n",
    "# Print a separator for clarity.\n",
    "print('*----------------------------------*')\n",
    "\n",
    "# Print a separator for clarity.\n",
    "print('*----------------------------------*')\n",
    "\n",
    "# Access and print the 'PATH' environment variable.\n",
    "print(os.environ['PATH'])\n",
    "\n",
    "# Print a separator for clarity.\n",
    "print('*----------------------------------*')\n"
   ]
  },
  {
   "cell_type": "code",
   "execution_count": 4,
   "id": "14f8a9a9",
   "metadata": {},
   "outputs": [
    {
     "name": "stdout",
     "output_type": "stream",
     "text": [
      "DELL\n"
     ]
    }
   ],
   "source": [
    "import getpass\n",
    "print(getpass.getuser())\n"
   ]
  },
  {
   "cell_type": "code",
   "execution_count": 3,
   "id": "1b79628a",
   "metadata": {},
   "outputs": [
    {
     "name": "stdout",
     "output_type": "stream",
     "text": [
      "192.168.109.7\n"
     ]
    }
   ],
   "source": [
    "import socket\n",
    "# Step 1: Get the local hostname.\n",
    "local_hostname = socket.gethostname()\n",
    "\n",
    "# Step 2: Get a list of IP addresses associated with the hostname.\n",
    "ip_addresses = socket.gethostbyname_ex(local_hostname)[2]\n",
    "\n",
    "# Step 3: Filter out loopback addresses (IPs starting with \"127.\").\n",
    "filtered_ips = [ip for ip in ip_addresses if not ip.startswith(\"128.\")]\n",
    "\n",
    "# Step 4: Extract the first IP address (if available) from the filtered list.\n",
    "first_ip = filtered_ips[:1]\n",
    "\n",
    "# Step 5: Print the obtained IP address to the console.\n",
    "print(first_ip[0])\n"
   ]
  },
  {
   "cell_type": "code",
   "execution_count": 7,
   "id": "27f75b87",
   "metadata": {},
   "outputs": [
    {
     "name": "stdout",
     "output_type": "stream",
     "text": [
      "\n",
      "Time to sum of 1 to 5 and required time to calculate is: (15, 0.0)\n"
     ]
    }
   ],
   "source": [
    "import time\n",
    "def sum_of_n_numbers(n):\n",
    "    start_time = time.time()\n",
    "    s = 0\n",
    "    for i in range(1, n + 1):\n",
    "        s = s + i\n",
    "    end_time = time.time()\n",
    "    return s, end_time - start_time\n",
    "\n",
    "n = 5\n",
    "\n",
    "# Print the result, including the time taken to calculate the sum.\n",
    "print(\"\\nTime to sum of 1 to\", n, \"and required time to calculate is:\", sum_of_n_numbers(n))\n"
   ]
  },
  {
   "cell_type": "code",
   "execution_count": 8,
   "id": "75b5e8af",
   "metadata": {},
   "outputs": [
    {
     "name": "stdout",
     "output_type": "stream",
     "text": [
      "Input a number: 5\n",
      "Sum of the first 5 positive integers: 15.0\n"
     ]
    }
   ],
   "source": [
    "n = int(input(\"Input a number: \"))\n",
    "sum_num = (n * (n + 1)) / 2\n",
    "print(\"Sum of the first\", n, \"positive integers:\", sum_num)\n"
   ]
  },
  {
   "cell_type": "code",
   "execution_count": 9,
   "id": "c9d175c9",
   "metadata": {},
   "outputs": [
    {
     "name": "stdout",
     "output_type": "stream",
     "text": [
      "Input your height: \n",
      "Feet: 5\n",
      "Inches: 6\n",
      "Your height is : 167 cm.\n"
     ]
    }
   ],
   "source": [
    "print(\"Input your height: \")\n",
    "\n",
    "# Read the feet part of the height and convert it to an integer.\n",
    "h_ft = int(input(\"Feet: \"))\n",
    "\n",
    "# Read the inches part of the height and convert it to an integer.\n",
    "h_inch = int(input(\"Inches: \"))\n",
    "\n",
    "# Convert the height from feet and inches to inches.\n",
    "h_inch += h_ft * 12\n",
    "\n",
    "# Calculate the height in centimeters by multiplying by the conversion factor (2.54).\n",
    "h_cm = round(h_inch * 2.54, 1)\n",
    "\n",
    "# Print the calculated height in centimeters.\n",
    "print(\"Your height is : %d cm.\" % h_cm)\n"
   ]
  },
  {
   "cell_type": "code",
   "execution_count": 10,
   "id": "dddc451b",
   "metadata": {},
   "outputs": [
    {
     "name": "stdout",
     "output_type": "stream",
     "text": [
      "Input lengths of shorter triangle sides:\n",
      "a: 5\n",
      "b: 6\n",
      "The length of the hypotenuse is: 7.810249675906654\n"
     ]
    }
   ],
   "source": [
    "from math import sqrt\n",
    "print(\"Input lengths of shorter triangle sides:\")\n",
    "\n",
    "# Read and convert the input for side 'a' to a floating-point number.\n",
    "a = float(input(\"a: \"))\n",
    "\n",
    "# Read and convert the input for side 'b' to a floating-point number.\n",
    "b = float(input(\"b: \"))\n",
    "\n",
    "# Calculate the length of the hypotenuse using the Pythagorean theorem.\n",
    "c = sqrt(a**2 + b**2)\n",
    "\n",
    "# Print the calculated length of the hypotenuse.\n",
    "print(\"The length of the hypotenuse is:\", c)\n"
   ]
  },
  {
   "cell_type": "code",
   "execution_count": 11,
   "id": "e7b0bb18",
   "metadata": {},
   "outputs": [
    {
     "name": "stdout",
     "output_type": "stream",
     "text": [
      "Input distance in feet: 4\n",
      "The distance in inches is 48 inches.\n",
      "The distance in yards is 1.33 yards.\n",
      "The distance in miles is 0.00 miles.\n"
     ]
    }
   ],
   "source": [
    "d_ft = int(input(\"Input distance in feet: \"))\n",
    "\n",
    "# Convert the distance in feet to inches\n",
    "d_inches = d_ft * 12\n",
    "\n",
    "# Convert the distance in feet to yards.\n",
    "d_yards = d_ft / 3.0\n",
    "\n",
    "# Convert the distance in feet to miles\n",
    "d_miles = d_ft / 5280.0\n",
    "\n",
    "# Print the calculated distances in inches, yards, and miles.\n",
    "print(\"The distance in inches is %i inches.\" % d_inches)\n",
    "print(\"The distance in yards is %.2f yards.\" % d_yards)\n",
    "print(\"The distance in miles is %.2f miles.\" % d_miles)\n"
   ]
  },
  {
   "cell_type": "code",
   "execution_count": 12,
   "id": "5d003def",
   "metadata": {},
   "outputs": [
    {
     "name": "stdout",
     "output_type": "stream",
     "text": [
      "Input days: 5\n",
      "Input hours: 12\n",
      "Input minutes: 45\n",
      "Input seconds: 40\n",
      "The amount of seconds: 477940\n"
     ]
    }
   ],
   "source": [
    "days = int(input(\"Input days: \")) * 3600 * 24\n",
    "hours = int(input(\"Input hours: \")) * 3600\n",
    "\n",
    "minutes = int(input(\"Input minutes: \")) * 60\n",
    "\n",
    "seconds = int(input(\"Input seconds: \"))\n",
    "\n",
    "time = days + hours + minutes + seconds\n",
    "\n",
    "print(\"The amount of seconds:\", time)\n"
   ]
  },
  {
   "cell_type": "code",
   "execution_count": 13,
   "id": "9dfe3649",
   "metadata": {},
   "outputs": [
    {
     "name": "stdout",
     "output_type": "stream",
     "text": [
      "Absolute file path:  C:\\Users\\DELL\\test.txt\n"
     ]
    }
   ],
   "source": [
    "def absolute_file_path(path_fname):\n",
    "    import os\n",
    "    return os.path.abspath(path_fname)\n",
    "\n",
    "# Call the function and print the result, passing \"test.txt\" as the argument.\n",
    "print(\"Absolute file path: \", absolute_file_path(\"test.txt\"))\n"
   ]
  },
  {
   "cell_type": "code",
   "execution_count": 62,
   "id": "af574ec3",
   "metadata": {},
   "outputs": [
    {
     "name": "stdout",
     "output_type": "stream",
     "text": [
      "Last modified: Mon Feb  5 10:09:34 2024\n",
      "Created: Sun May 30 16:02:33 2021\n"
     ]
    }
   ],
   "source": [
    "import os.path, time\n",
    "print(\"Last modified: %s\" % time.ctime(os.path.getmtime(\"C:\\Program Files\")))\n",
    "print(\"Created: %s\" % time.ctime(os.path.getctime('C:\\Program Files')))\n"
   ]
  },
  {
   "cell_type": "code",
   "execution_count": 18,
   "id": "b2ace710",
   "metadata": {},
   "outputs": [
    {
     "name": "stdout",
     "output_type": "stream",
     "text": [
      "Input time in seconds: 2\n",
      "d:h:m:s-> 0:0:0:2\n"
     ]
    }
   ],
   "source": [
    "time = float(input(\"Input time in seconds: \"))\n",
    "day = time // (24 * 3600)\n",
    "time = time % (24 * 3600)\n",
    "hour = time // 3600\n",
    "time %= 3600\n",
    "minutes = time // 60\n",
    "time %= 60\n",
    "seconds = time\n",
    "\n",
    "# Print the time duration in the format \"d:h:m:s\".\n",
    "print(\"d:h:m:s-> %d:%d:%d:%d\" % (day, hour, minutes, seconds))\n"
   ]
  },
  {
   "cell_type": "code",
   "execution_count": 16,
   "id": "d7124987",
   "metadata": {},
   "outputs": [
    {
     "name": "stdout",
     "output_type": "stream",
     "text": [
      "Input your height in Feet: 4\n",
      "Input your weight in Kilograms: 5\n",
      "Your body mass index is:  0.31\n"
     ]
    }
   ],
   "source": [
    "height = float(input(\"Input your height in Feet: \"))\n",
    "weight = float(input(\"Input your weight in Kilograms: \"))\n",
    "bmi = weight / (height * height)\n",
    "rounded_bmi = round(bmi, 2)\n",
    "print(\"Your body mass index is: \", rounded_bmi)\n"
   ]
  },
  {
   "cell_type": "code",
   "execution_count": 17,
   "id": "81d0e9c8",
   "metadata": {},
   "outputs": [
    {
     "name": "stdout",
     "output_type": "stream",
     "text": [
      "Input pressure in kilopascals: 4\n",
      "The pressure in pounds per square inch: 0.58 psi\n",
      "The pressure in millimeters of mercury: 30.00 mmHg\n",
      "Atmosphere pressure: 0.04 atm.\n"
     ]
    }
   ],
   "source": [
    "kpa = float(input(\"Input pressure in kilopascals: \"))\n",
    "psi = kpa / 6.89475729\n",
    "mmhg = kpa * 760 / 101.325\n",
    "atm = kpa / 101.325\n",
    "print(\"The pressure in pounds per square inch: %.2f psi\"  % (psi))\n",
    "print(\"The pressure in millimeters of mercury: %.2f mmHg\" % (mmhg))\n",
    "print(\"Atmosphere pressure: %.2f atm.\" % (atm))\n"
   ]
  },
  {
   "cell_type": "code",
   "execution_count": 9,
   "id": "8c1adaf9",
   "metadata": {},
   "outputs": [
    {
     "name": "stdout",
     "output_type": "stream",
     "text": [
      "Input a four-digit number: 1234\n",
      "The sum of digits in the number is -179\n"
     ]
    }
   ],
   "source": [
    "num = int(input(\"Input a four-digit number: \"))\n",
    "x = num // 1000\n",
    "x1 = (num - x * 1000) // 10\n",
    "x2 = (num - x * 1000 - x1 * 100) // 10\n",
    "x3 = num - x * 1000 - x1 * 100 - x2 * 10\n",
    "print(\"The sum of digits in the number is\", x + x1 + x2 + x3)\n"
   ]
  },
  {
   "cell_type": "code",
   "execution_count": 8,
   "id": "95d4db3f",
   "metadata": {},
   "outputs": [
    {
     "name": "stdout",
     "output_type": "stream",
     "text": [
      "Input first number: 1234\n",
      "Input second number: 1236\n",
      "Input third number: 1278\n",
      "Numbers in sorted order:  1234 1236 1278\n"
     ]
    }
   ],
   "source": [
    "x = int(input(\"Input first number: \"))\n",
    "y = int(input(\"Input second number: \"))\n",
    "z = int(input(\"Input third number: \"))\n",
    "a1 = min(x, y, z)\n",
    "a3 = max(x, y, z)\n",
    "a2 = (x + y + z) - a1 - a3\n",
    "print(\"Numbers in sorted order: \", a1, a2, a3)\n"
   ]
  },
  {
   "cell_type": "code",
   "execution_count": 1,
   "id": "58c44cc9",
   "metadata": {},
   "outputs": [
    {
     "name": "stdout",
     "output_type": "stream",
     "text": [
      "\n"
     ]
    }
   ],
   "source": [
    "import glob\n",
    "import os\n",
    "files = glob.glob(\"*.txt\")\n",
    "files.sort(key=os.path.getmtime)\n",
    "print(\"\\n\".join(files))\n"
   ]
  },
  {
   "cell_type": "code",
   "execution_count": 24,
   "id": "9b50b974",
   "metadata": {},
   "outputs": [
    {
     "name": "stdout",
     "output_type": "stream",
     "text": [
      "Wed Nov  8 01:02:28 2023 NTUSER.DAT\n",
      "Wed Nov  8 01:02:28 2023 NTUSER.DAT{54804d11-c130-11eb-baca-000d3aa69c2d}.TM.blf\n",
      "Wed Nov  8 01:02:28 2023 NTUSER.DAT{54804d11-c130-11eb-baca-000d3aa69c2d}.TMContainer00000000000000000001.regtrans-ms\n",
      "Wed Nov  8 01:02:28 2023 NTUSER.DAT{54804d11-c130-11eb-baca-000d3aa69c2d}.TMContainer00000000000000000002.regtrans-ms\n",
      "Wed Nov  8 01:02:28 2023 ntuser.dat.LOG1\n",
      "Wed Nov  8 01:02:28 2023 ntuser.dat.LOG2\n",
      "Wed Nov  8 01:02:28 2023 ntuser.ini\n",
      "Mon Nov 20 10:45:48 2023 .condarc\n",
      "Thu Jan 25 16:58:50 2024 Untitled.ipynb\n",
      "Fri Jan 26 16:30:29 2024 indian flag.ipynb\n",
      "Wed Feb  7 13:54:13 2024 Untitled6.ipynb\n",
      "Sun Mar  3 11:58:23 2024 VARINDA-STORE.ipynb\n",
      "Sun Mar  3 12:22:35 2024 Untitled11.ipynb\n",
      "Tue Mar  5 19:09:14 2024 SUPER STORE ORDERS.ipynb\n",
      "Fri Apr  5 19:59:35 2024 Diwali Sales Data_assigenment week3.ipynb\n",
      "Fri Apr 19 18:56:14 2024 Untitled12.ipynb\n",
      "Sat Apr 27 12:31:08 2024 SOFTRAW2.ipynb\n",
      "Wed May 22 22:29:54 2024 assigenment in celebal.ipynb\n",
      "Thu May 23 17:01:53 2024 Untitled21.ipynb\n",
      "Fri May 24 08:37:58 2024 Untitled22.ipynb\n",
      "Fri May 24 15:15:34 2024 Assignment week1.ipynb\n",
      "Sun May 26 11:17:20 2024 Untitled20.ipynb\n",
      "Mon May 27 15:43:23 2024 Installation_Task.ipynb\n",
      "Mon May 27 22:45:06 2024 example.ipynb\n",
      "Fri May 31 16:59:50 2024 List and method.ipynb\n",
      "Fri May 31 21:56:40 2024 RunCode_Task.ipynb\n",
      "Fri May 31 22:03:21 2024 DataType_Declear_Task.ipynb\n",
      "Sat Jun  1 14:14:45 2024 Calculator.ipynb\n",
      "Mon Jun  3 08:44:52 2024 tuple and dict.ipynb\n",
      "Thu Jun  6 08:15:09 2024 Set.ipynb\n",
      "Thu Jun  6 20:28:10 2024 Untitled1.ipynb\n",
      "Fri Jun  7 17:42:19 2024 practice.ipynb\n",
      "Sat Jun  8 21:28:25 2024 StringMethods_task.ipynb\n",
      "Sun Jun  9 16:06:09 2024 Different Data Type_Task.ipynb\n",
      "Sun Jun  9 21:01:30 2024 Day7 Task.ipynb\n",
      "Mon Jun 10 08:38:46 2024 algorithms and flow chart.ipynb\n",
      "Tue Jun 11 09:01:12 2024 types of operator.ipynb\n",
      "Wed Jun 12 12:06:56 2024 Untitled23.ipynb\n",
      "Wed Jun 12 17:18:35 2024 Untitled24.ipynb\n",
      "Thu Jun 13 08:47:28 2024 Type casting.ipynb\n",
      "Thu Jun 13 14:25:07 2024 qution 51-100.ipynb\n",
      "Thu Jun 13 21:49:07 2024 celebal.ipynb\n",
      "Thu Jun 13 22:23:24 2024 example2.ipynb\n",
      "Fri Jun 14 08:49:41 2024 conditional statement.ipynb\n",
      "Fri Jun 14 09:15:14 2024 Assigenment week4.ipynb\n",
      "Mon Jun 17 12:58:33 2024 Project Data_Task.ipynb\n",
      "Tue Jun 18 08:39:43 2024 Untitled26.ipynb\n",
      "Wed Jun 19 08:41:42 2024 Loops.ipynb\n",
      "Thu Jun 20 12:25:47 2024 python_example Ques.2,3.ipynb\n",
      "Sat Jun 22 09:39:22 2024 Assigenment Week 5.ipynb\n",
      "Mon Jun 24 16:57:43 2024 .~Untitled26.ipynb\n",
      "Tue Jun 25 18:12:18 2024 Celebal project.ipynb\n",
      "Tue Jun 25 20:11:36 2024 pattern.ipynb\n",
      "Wed Jun 26 13:20:02 2024 NTUSER.DAT{54804d10-c130-11eb-baca-000d3aa69c2d}.TxR.0.regtrans-ms\n",
      "Wed Jun 26 13:20:02 2024 NTUSER.DAT{54804d10-c130-11eb-baca-000d3aa69c2d}.TxR.1.regtrans-ms\n",
      "Wed Jun 26 13:20:02 2024 NTUSER.DAT{54804d10-c130-11eb-baca-000d3aa69c2d}.TxR.2.regtrans-ms\n",
      "Wed Jun 26 13:20:02 2024 NTUSER.DAT{54804d10-c130-11eb-baca-000d3aa69c2d}.TxR.blf\n"
     ]
    }
   ],
   "source": [
    "from stat import S_ISREG, ST_CTIME, ST_MODE\n",
    "import os, sys, time\n",
    "# Determine the directory path based on command-line arguments. If there are two arguments, use the second one as the path; otherwise, use the current directory.\n",
    "dir_path = sys.argv[1] if len(sys.argv) == 2 else r'.'\n",
    "# Generate a generator expression that yields the full path for each file in the specified directory.\n",
    "data = (os.path.join(dir_path, fn) for fn in os.listdir(dir_path))\n",
    "# Generate a generator expression that pairs the file's status information and its path.\n",
    "data = ((os.stat(path), path) for path in data)\n",
    "data = ((stat[ST_CTIME], path) for stat, path in data if S_ISREG(stat[ST_MODE])\n",
    "for cdate, path in sorted(data):\n",
    "    print(time.ctime(cdate), os.path.basename(path)) \n"
   ]
  },
  {
   "cell_type": "code",
   "execution_count": 25,
   "id": "48d61347",
   "metadata": {},
   "outputs": [
    {
     "name": "stdout",
     "output_type": "stream",
     "text": [
      "['__doc__', '__loader__', '__name__', '__package__', '__spec__', 'acos', 'acosh', 'asin', 'asinh', 'atan', 'atan2', 'atanh', 'cbrt', 'ceil', 'comb', 'copysign', 'cos', 'cosh', 'degrees', 'dist', 'e', 'erf', 'erfc', 'exp', 'exp2', 'expm1', 'fabs', 'factorial', 'floor', 'fmod', 'frexp', 'fsum', 'gamma', 'gcd', 'hypot', 'inf', 'isclose', 'isfinite', 'isinf', 'isnan', 'isqrt', 'lcm', 'ldexp', 'lgamma', 'log', 'log10', 'log1p', 'log2', 'modf', 'nan', 'nextafter', 'perm', 'pi', 'pow', 'prod', 'radians', 'remainder', 'sin', 'sinh', 'sqrt', 'tan', 'tanh', 'tau', 'trunc', 'ulp']\n"
     ]
    }
   ],
   "source": [
    "# Imports the math module\n",
    "import math            \n",
    "math_ls = dir(math)\n",
    "print(math_ls)\n"
   ]
  },
  {
   "cell_type": "code",
   "execution_count": 26,
   "id": "a894c49e",
   "metadata": {},
   "outputs": [
    {
     "name": "stdout",
     "output_type": "stream",
     "text": [
      "\n",
      "Calculate the midpoint of a line :\n",
      "The value of x (the first endpoint) 3\n",
      "The value of y (the first endpoint) 4\n",
      "The value of x (the first endpoint) 5\n",
      "The value of y (the first endpoint) 6\n",
      "\n",
      "The midpoint of the line is :\n",
      "The midpoint's x value is:  4.0\n",
      "The midpoint's y value is:  5.0\n"
     ]
    }
   ],
   "source": [
    "print('\\nCalculate the midpoint of a line :')\n",
    "x1 = float(input('The value of x (the first endpoint) '))\n",
    "y1 = float(input('The value of y (the first endpoint) '))\n",
    "x2 = float(input('The value of x (the first endpoint) '))\n",
    "y2 = float(input('The value of y (the first endpoint) '))\n",
    "x_m_point = (x1 + x2)/2\n",
    "y_m_point = (y1 + y2)/2\n",
    "print();.\n",
    "print(\"The midpoint of the line is :\")\n",
    "print( \"The midpoint's x value is: \", x_m_point)\n",
    "print( \"The midpoint's y value is: \", y_m_point)\n"
   ]
  },
  {
   "cell_type": "code",
   "execution_count": 27,
   "id": "e05e49f0",
   "metadata": {},
   "outputs": [
    {
     "name": "stdout",
     "output_type": "stream",
     "text": [
      "Input the word to be hashed: 3\n",
      "\n",
      "The coded word is: 3\n",
      "\n"
     ]
    }
   ],
   "source": [
    "soundex = [0, 1, 2, 3, 0, 1, 2, 0, 0, 2, 2, 4, 5, 5, 0, 1, 2, 6, 2, 3, 0, 1, 0, 2, 0, 2].\n",
    "word = input(\"Input the word to be hashed: \")\n",
    "word = word.upper()\n",
    "coded = word[0]\n",
    "for a in word[1:len(word)]:\n",
    "    # Calculate the index for the Soundex list based on the character's ASCII code.\n",
    "    i = 65 - ord(a)\n",
    "    coded = coded + str(soundex[i])\n",
    "print()\n",
    "print(\"The coded word is: \" + coded)\n",
    "print()\n"
   ]
  },
  {
   "cell_type": "code",
   "execution_count": 28,
   "id": "0d7acdc1",
   "metadata": {},
   "outputs": [
    {
     "name": "stdout",
     "output_type": "stream",
     "text": [
      "\n",
      "Python Copyright Information\n",
      "Copyright (c) 2001-2023 Python Software Foundation.\n",
      "All Rights Reserved.\n",
      "\n",
      "Copyright (c) 2000 BeOpen.com.\n",
      "All Rights Reserved.\n",
      "\n",
      "Copyright (c) 1995-2001 Corporation for National Research Initiatives.\n",
      "All Rights Reserved.\n",
      "\n",
      "Copyright (c) 1991-1995 Stichting Mathematisch Centrum, Amsterdam.\n",
      "All Rights Reserved.\n",
      "\n"
     ]
    }
   ],
   "source": [
    "import sys\n",
    "print(\"\\nPython Copyright Information\")\n",
    "print(sys.copyright)\n",
    "print()\n"
   ]
  },
  {
   "cell_type": "code",
   "execution_count": 29,
   "id": "3ad0f614",
   "metadata": {},
   "outputs": [
    {
     "name": "stdout",
     "output_type": "stream",
     "text": [
      "This is the name/path of the script:\n",
      "Number of arguments: 3\n",
      "Argument List: ['C:\\\\ProgramData\\\\anaconda3\\\\Lib\\\\site-packages\\\\ipykernel_launcher.py', '-f', 'C:\\\\Users\\\\DELL\\\\AppData\\\\Roaming\\\\jupyter\\\\runtime\\\\kernel-55edfb06-8c35-416f-bd3e-81aab8003a0b.json']\n"
     ]
    }
   ],
   "source": [
    "import sys\n",
    "print(\"This is the name/path of the script:\"), sys.argv[0]\n",
    "print(\"Number of arguments:\", len(sys.argv))\n",
    "print(\"Argument List:\", str(sys.argv))\n"
   ]
  },
  {
   "cell_type": "code",
   "execution_count": 30,
   "id": "11415cfa",
   "metadata": {},
   "outputs": [
    {
     "name": "stdout",
     "output_type": "stream",
     "text": [
      "\n",
      "Little-endian platform.\n",
      "\n"
     ]
    }
   ],
   "source": [
    "import sys\n",
    "print()\n",
    "if sys.byteorder == \"little\":\n",
    "    print(\"Little-endian platform.\")\n",
    "else:\n",
    "    print(\"Big-endian platform.\")\n",
    "print()\n"
   ]
  },
  {
   "cell_type": "code",
   "execution_count": 31,
   "id": "43f13cd6",
   "metadata": {},
   "outputs": [
    {
     "name": "stdout",
     "output_type": "stream",
     "text": [
      "_abc, _ast, _bisect, _blake2, _codecs, _codecs_cn, _codecs_hk,\n",
      "_codecs_iso2022, _codecs_jp, _codecs_kr, _codecs_tw, _collections,\n",
      "_contextvars, _csv, _datetime, _functools, _heapq, _imp, _io, _json,\n",
      "_locale, _lsprof, _md5, _multibytecodec, _opcode, _operator, _pickle,\n",
      "_random, _sha1, _sha256, _sha3, _sha512, _signal, _sre, _stat,\n",
      "_statistics, _string, _struct, _symtable, _thread, _tokenize,\n",
      "_tracemalloc, _typing, _warnings, _weakref, _winapi,\n",
      "_xxsubinterpreters, array, atexit, audioop, binascii, builtins, cmath,\n",
      "errno, faulthandler, gc, itertools, marshal, math, mmap, msvcrt, nt,\n",
      "sys, time, winreg, xxsubtype, zlib\n"
     ]
    }
   ],
   "source": [
    "# Import the sys module to access system-specific information.\n",
    "import sys\n",
    "import textwrap\n",
    "module_name = ', '.join(sorted(sys.builtin_module_names))\n",
    "print(textwrap.fill(module_name, width=70))\n"
   ]
  },
  {
   "cell_type": "code",
   "execution_count": 6,
   "id": "a420dc8f",
   "metadata": {},
   "outputs": [
    {
     "name": "stdout",
     "output_type": "stream",
     "text": [
      "Size of  one = 52 bytes\n",
      "Size of  four = 53 bytes\n",
      "Size of  three = 54 bytes\n",
      "Size of 0 = 28 bytes\n",
      "Size of 121 = 28 bytes\n",
      "Size of [1, 2, 3, 'Red', 'Black'] = 104  bytes\n",
      "Size of ('Red', [8, 4, 6], (1, 2, 3)) = 64  bytes\n",
      "Size of {'apple', 'orange', 'pear'} = 216  bytes\n",
      "Size of {'Name': 'Tanish', 'Age': 19, 'Class': '2nd'} = 216  bytes\n"
     ]
    }
   ],
   "source": [
    "import sys  # Import the sys module to use sys.getsizeof()\n",
    "str1 = \"one\"\n",
    "str2 = \"four\"\n",
    "str3 = \"three\"\n",
    "x = 0\n",
    "y = 121\n",
    "z = 125.56\n",
    "print(\"Size of \", str1, \"=\", str(sys.getsizeof(str1)) + \" bytes\")\n",
    "print(\"Size of \", str2, \"=\", str(sys.getsizeof(str2)) + \" bytes\")\n",
    "print(\"Size of \", str3, \"=\", str(sys.getsizeof(str3)) + \" bytes\")\n",
    "print(\"Size of\", x, \"=\", str(sys.getsizeof(x)) + \" bytes\")\n",
    "print(\"Size of\", y, \"=\", str(sys.getsizeof(y)) + \" bytes\")\n",
    "L = [1, 2, 3, 'Red', 'Black']\n",
    "\n",
    "print(\"Size of\", L, \"=\", sys.getsizeof(L), \" bytes\")\n",
    "\n",
    "T = (\"Red\", [8, 4, 6], (1, 2, 3))\n",
    "\n",
    "print(\"Size of\", T, \"=\", sys.getsizeof(T), \" bytes\")\n",
    "\n",
    "# Define a set and assign values to it\n",
    "S = {'apple', 'orange', 'apple', 'pear'}\n",
    "\n",
    "# Print the size in bytes of the set\n",
    "print(\"Size of\", S, \"=\", sys.getsizeof(S), \" bytes\")\n",
    "\n",
    "# Define a dictionary and assign values to it\n",
    "D = {'Name': 'Tanish', 'Age': 19, 'Class': '2nd'}\n",
    "\n",
    "# Print the size in bytes of the dictionary\n",
    "print(\"Size of\", D, \"=\", sys.getsizeof(S), \" bytes\")\n"
   ]
  },
  {
   "cell_type": "code",
   "execution_count": 33,
   "id": "71523f1c",
   "metadata": {},
   "outputs": [
    {
     "name": "stdout",
     "output_type": "stream",
     "text": [
      "\n",
      "Current value of the recursion limit:\n",
      "3000\n",
      "\n"
     ]
    }
   ],
   "source": [
    "import sys  # Import the sys module to access system-related information\n",
    "\n",
    "print() \n",
    "print(\"Current value of the recursion limit:\")  \n",
    "print(sys.getrecursionlimit())  # Retrieve and print the current recursion limit\n",
    "print()  \n"
   ]
  },
  {
   "cell_type": "code",
   "execution_count": 34,
   "id": "010d6bff",
   "metadata": {},
   "outputs": [
    {
     "name": "stdout",
     "output_type": "stream",
     "text": [
      "\n",
      "All Colors: Red-White-Black\n",
      "\n"
     ]
    }
   ],
   "source": [
    "list_of_colors = ['Red', 'White', 'Black']  \n",
    "colors = '-'.join(list_of_colors)\n",
    "print() \n",
    "print(\"All Colors: \" + colors)  # Print the concatenated colors with '-' between them\n",
    "print() \n"
   ]
  },
  {
   "cell_type": "code",
   "execution_count": 3,
   "id": "beb8ada6",
   "metadata": {},
   "outputs": [
    {
     "ename": "SyntaxError",
     "evalue": "'(' was never closed (792157352.py, line 7)",
     "output_type": "error",
     "traceback": [
      "\u001b[1;36m  Cell \u001b[1;32mIn[3], line 7\u001b[1;36m\u001b[0m\n\u001b[1;33m    print(type(nums)\u001b[0m\n\u001b[1;37m         ^\u001b[0m\n\u001b[1;31mSyntaxError\u001b[0m\u001b[1;31m:\u001b[0m '(' was never closed\n"
     ]
    }
   ],
   "source": [
    "nums = [10, 20, 30]\n",
    "\n",
    "print(\"Original container:\")\n",
    "\n",
    "print(nums)\n",
    "\n",
    "print(type(nums)\n",
    " \n",
    "print(\"Sum of all items of the said container:\", sum(nums))\n",
    "\n",
    "def dict_sum(nums):\n",
    "   num_sum = 0\n",
    "   for i in nums:\n",
    "       num_sum = num_sum + nums[i]\n",
    "   return num_sum\n",
    "# Create a dictionary 'nums' with key-value pairs.\n",
    "nums = {'a': 100, 'b': 200, 'c': 300, 'd': 120}\n",
    "# Print a message indicating the original container and display the dictionary 'nums'.\n",
    "print(\"Original container:\")\n",
    "print(nums)\n",
    "# Print the type of the 'nums' container.\n",
    "print(type(nums))\n",
    "# Calculate the sum of all items in the dictionary 'nums' using the 'dict_sum' function and print the result.\n",
    "print(\"Sum of all items of the said container:\", dict_sum(nums))\n",
    "\n",
    "# set\n",
    "# Create a set 'nums' with a collection of numbers.\n",
    "nums = {7, 4, 9, 1, 3, 2}\n",
    "# Print a message indicating the original container and display the set 'nums'.\n",
    "print(\"The original container\")\n",
    "print(nums)\n",
    "\n",
    "# Calculate the sum of all items in the set 'nums' using the 'sum' function and store it in the 'sum_tuple' variable.\n",
    "sum_tuple = sum(nums)\n",
    "# Print the sum of all items in the set.\n",
    "print(\"Sum of all items of the said container:\", str(sum_tuple))\n",
    "\n",
    "# tuple\n",
    "# Create a tuple 'nums' with a collection of numbers.\n",
    "nums = (7, 4, 9, 1, 3, 2)\n",
    "\n",
    "# Print a message indicating the original container and display the tuple 'nums'.\n",
    "print(\"The original container\")\n",
    "print(nums)\n",
    "\n",
    "# Print the type of the 'nums' container.\n",
    "print(type(nums))\n",
    "\n",
    "# Calculate the sum of all items in the tuple 'nums' using the 'sum' function and store it in the 'sum_tuple' variable.\n",
    "sum_tuple = sum(nums)\n",
    "\n",
    "# Print the sum of all items in the tuple.\n",
    "print(\"Sum of all items of the said container:\", str(sum_tuple))\n"
   ]
  },
  {
   "cell_type": "code",
   "execution_count": 36,
   "id": "226c8c5a",
   "metadata": {},
   "outputs": [
    {
     "name": "stdout",
     "output_type": "stream",
     "text": [
      "Original list numbers:\n",
      "[10, 20, 30, 40, 50, 60, 70, 80, 90, 100]\n",
      "\n",
      "Check whether all numbers of the said list are greater than 12\n",
      "False\n",
      "\n",
      "Check whether all numbers of the said list are greater than 5\n",
      "True\n"
     ]
    }
   ],
   "source": [
    "def test(nums, n):\n",
    "    return(all(x > n for x in nums) )     \n",
    "\n",
    "# Create a list 'nums' containing integer values.\n",
    "nums = [10, 20, 30, 40, 50, 60, 70, 80, 90, 100]\n",
    ".\n",
    "print(\"Original list numbers:\")\n",
    "print(nums)\n",
    "\n",
    "n = 12\n",
    "\n",
    "print(\"\\nCheck whether all numbers of the said list are greater than\", n)\n",
    "\n",
    "# Call the 'test' function\n",
    "print(test(nums, n))\n",
    "\n",
    "# Set the value of 'n' to 5.\n",
    "n = 5\n",
    "\n",
    "# Print a message indicating that we're checking if all numbers in the list are greater than 'n'.\n",
    "print(\"\\nCheck whether all numbers of the said list are greater than\", n)\n",
    "\n",
    "# Call the 'test' function again with the updated 'n' value and print the result.\n",
    "print(test(nums, n))\n"
   ]
  },
  {
   "cell_type": "code",
   "execution_count": 4,
   "id": "78e51314",
   "metadata": {},
   "outputs": [
    {
     "name": "stdout",
     "output_type": "stream",
     "text": [
      "Original string:\n",
      "The quick brown fox jumps over the lazy dog.\n",
      "Number of occurrences of 'o' in the said string:\n",
      "4\n"
     ]
    }
   ],
   "source": [
    "s = \"The quick brown fox jumps over the lazy dog.\"\n",
    "\n",
    "print(\"Original string:\")\n",
    "\n",
    "print(s)\n",
    "\n",
    "print(\"Number of occurrences of 'o' in the said string:\")\n",
    "\n",
    "print(s.count(\"o\"))\n"
   ]
  },
  {
   "cell_type": "code",
   "execution_count": 38,
   "id": "a26e0fa3",
   "metadata": {},
   "outputs": [
    {
     "name": "stdout",
     "output_type": "stream",
     "text": [
      "It is a special file (socket, FIFO, device file)\n",
      "\n"
     ]
    }
   ],
   "source": [
    "# Import the 'os' module to access operating system functionalities.\n",
    "import os\n",
    "\n",
    "path = \"abc.txt\"\n",
    "\n",
    "if os.path.isdir(path):\n",
    "    print(\"\\nIt is a directory\")\n",
    "elif os.path.isfile(path):\n",
    "    print(\"\\nIt is a normal file\")\n",
    "else:.\n",
    "    print(\"It is a special file (socket, FIFO, device file)\")\n",
    "\n",
    "print()\n"
   ]
  },
  {
   "cell_type": "code",
   "execution_count": 39,
   "id": "79a45443",
   "metadata": {},
   "outputs": [
    {
     "name": "stdout",
     "output_type": "stream",
     "text": [
      "\n",
      "97\n",
      "65\n",
      "49\n",
      "64\n",
      "\n"
     ]
    }
   ],
   "source": [
    "\n",
    "print()\n",
    "\n",
    "# Print the Unicode code point of the character 'a'.\n",
    "print(ord('a'))\n",
    "\n",
    "# Print the Unicode code point of the character 'A'.\n",
    "print(ord('A'))\n",
    "\n",
    "# Print the Unicode code point of the character '1'.\n",
    "print(ord('1'))\n",
    "\n",
    "# Print the Unicode code point of the character '@'.\n",
    "print(ord('@'))\n",
    "\n",
    "# Print a newline character for spacing.\n",
    "print()\n"
   ]
  },
  {
   "cell_type": "code",
   "execution_count": 41,
   "id": "f04bf073",
   "metadata": {},
   "outputs": [
    {
     "name": "stdout",
     "output_type": "stream",
     "text": [
      "30+20=50\n"
     ]
    }
   ],
   "source": [
    "x = 30\n",
    "y = 20\n",
    "print(\"{0}+{1}={2}\".format(x, y, x + y))\n"
   ]
  },
  {
   "cell_type": "code",
   "execution_count": 43,
   "id": "910ec1f3",
   "metadata": {},
   "outputs": [
    {
     "name": "stdout",
     "output_type": "stream",
     "text": [
      "Input a number: 1\n",
      "First day of a Month!\n"
     ]
    }
   ],
   "source": [
    "n = float(input(\"Input a number: \"))\n",
    "\n",
    "if (n == 1):\n",
    "    print(\"First day of a Month!\")\n",
    "else:\n",
    "    print()\n"
   ]
  },
  {
   "cell_type": "code",
   "execution_count": 46,
   "id": "97ba30b5",
   "metadata": {},
   "outputs": [
    {
     "name": "stdout",
     "output_type": "stream",
     "text": [
      "\n",
      "Before swap a = 30 and b = 20\n",
      "\n",
      "After swaping a = 20 and b = 30\n"
     ]
    }
   ],
   "source": [
    "a = 30\n",
    "b = 20\n",
    "\n",
    "print(\"\\nBefore swap a = %d and b = %d\" %(a, b))\n",
    "\n",
    "a, b = b, a\n",
    "\n",
    "print(\"\\nAfter swaping a = %d and b = %d\" %(a, b))\n"
   ]
  },
  {
   "cell_type": "code",
   "execution_count": 47,
   "id": "9a6b556e",
   "metadata": {},
   "outputs": [
    {
     "name": "stdout",
     "output_type": "stream",
     "text": [
      "\n",
      "\\#{'}${\"}@/\n",
      "\\#{'}${\"}@/\n",
      "\\#{'}${\"}@/\n",
      "\\#{'}${\"}@/\n",
      "\\#{'}${\"}@/\n",
      "\\#{'}${\"}@/\n",
      "\n"
     ]
    }
   ],
   "source": [
    "# Print a string containing special characters without escaping.\n",
    "print()\n",
    "print(\"\\#{'}${\\\"}@/\")\n",
    "\n",
    "# Print a string containing special characters with escaped single quotes.\n",
    "print(\"\\#{'}${\\\"}@/\")\n",
    "\n",
    "# Print a raw string using triple-quotes with special characters.\n",
    "print(r\"\"\"\\#{'}${\"}@/\"\"\")\n",
    "\n",
    "# Print a string containing special characters without escaping.\n",
    "print('\\#{\\'}${\"}@/')\n",
    "\n",
    "# Print a string containing special characters with escaped single quotes.\n",
    "print('\\#{'\"'\"'}${\"}@/')\n",
    "\n",
    "# Print a raw string using triple-quotes with special characters.\n",
    "print(r'''\\#{'}${\"}@/''')\n",
    "print()\n"
   ]
  },
  {
   "cell_type": "code",
   "execution_count": 48,
   "id": "e12fe5f9",
   "metadata": {},
   "outputs": [
    {
     "name": "stdout",
     "output_type": "stream",
     "text": [
      "\n",
      "Identity:  34\n",
      "\n",
      "Type:  <class 'int'>\n",
      "\n",
      "Value:  140737097602888\n"
     ]
    }
   ],
   "source": [
    "x = 34\n",
    "\n",
    "print(\"\\nIdentity: \", x)\n",
    "\n",
    "print(\"\\nType: \", type(x))\n",
    "\n",
    "print(\"\\nValue: \", id(x))\n"
   ]
  },
  {
   "cell_type": "code",
   "execution_count": 49,
   "id": "842ddc06",
   "metadata": {},
   "outputs": [
    {
     "name": "stdout",
     "output_type": "stream",
     "text": [
      "\n",
      "Convert bytes of the said string to a list of integers:\n",
      "[65, 98, 99]\n",
      "\n"
     ]
    }
   ],
   "source": [
    "x = b'Abc'\n",
    "\n",
    "print()\n",
    "\n",
    "# Convert the bytes of the said string to a list of integers and print the result.\n",
    "print(\"Convert bytes of the said string to a list of integers:\")\n",
    "print(list(x))\n",
    "\n",
    "print()\n"
   ]
  },
  {
   "cell_type": "code",
   "execution_count": 51,
   "id": "afbdc6cb",
   "metadata": {},
   "outputs": [
    {
     "name": "stdout",
     "output_type": "stream",
     "text": [
      "Input a word or numbers: hello\n",
      "The input value is string.\n"
     ]
    }
   ],
   "source": [
    "text = input(\"Input a word or numbers: \")\n",
    "\n",
    "# Check if the input consists of digits only using the 'isdigit' method.\n",
    "if text.isdigit():\n",
    "    print(\"The input value is numbers.\")\n",
    "else:\n",
    "    print(\"The input value is string.\")\n"
   ]
  },
  {
   "cell_type": "code",
   "execution_count": 52,
   "id": "f9110926",
   "metadata": {},
   "outputs": [
    {
     "name": "stdout",
     "output_type": "stream",
     "text": [
      "\n",
      "\n"
     ]
    },
    {
     "name": "stderr",
     "output_type": "stream",
     "text": [
      "  File \"<frozen runpy>\", line 198, in _run_module_as_main\n",
      "  File \"<frozen runpy>\", line 88, in _run_code\n",
      "  File \"C:\\ProgramData\\anaconda3\\Lib\\site-packages\\ipykernel_launcher.py\", line 17, in <module>\n",
      "    app.launch_new_instance()\n",
      "  File \"C:\\ProgramData\\anaconda3\\Lib\\site-packages\\traitlets\\config\\application.py\", line 992, in launch_instance\n",
      "    app.start()\n",
      "  File \"C:\\ProgramData\\anaconda3\\Lib\\site-packages\\ipykernel\\kernelapp.py\", line 736, in start\n",
      "    self.io_loop.start()\n",
      "  File \"C:\\ProgramData\\anaconda3\\Lib\\site-packages\\tornado\\platform\\asyncio.py\", line 195, in start\n",
      "    self.asyncio_loop.run_forever()\n",
      "  File \"C:\\ProgramData\\anaconda3\\Lib\\asyncio\\base_events.py\", line 607, in run_forever\n",
      "    self._run_once()\n",
      "  File \"C:\\ProgramData\\anaconda3\\Lib\\asyncio\\base_events.py\", line 1922, in _run_once\n",
      "    handle._run()\n",
      "  File \"C:\\ProgramData\\anaconda3\\Lib\\asyncio\\events.py\", line 80, in _run\n",
      "    self._context.run(self._callback, *self._args)\n",
      "  File \"C:\\ProgramData\\anaconda3\\Lib\\site-packages\\ipykernel\\kernelbase.py\", line 516, in dispatch_queue\n",
      "    await self.process_one()\n",
      "  File \"C:\\ProgramData\\anaconda3\\Lib\\site-packages\\ipykernel\\kernelbase.py\", line 505, in process_one\n",
      "    await dispatch(*args)\n",
      "  File \"C:\\ProgramData\\anaconda3\\Lib\\site-packages\\ipykernel\\kernelbase.py\", line 412, in dispatch_shell\n",
      "    await result\n",
      "  File \"C:\\ProgramData\\anaconda3\\Lib\\site-packages\\ipykernel\\kernelbase.py\", line 740, in execute_request\n",
      "    reply_content = await reply_content\n",
      "  File \"C:\\ProgramData\\anaconda3\\Lib\\site-packages\\ipykernel\\ipkernel.py\", line 422, in do_execute\n",
      "    res = shell.run_cell(\n",
      "  File \"C:\\ProgramData\\anaconda3\\Lib\\site-packages\\ipykernel\\zmqshell.py\", line 546, in run_cell\n",
      "    return super().run_cell(*args, **kwargs)\n",
      "  File \"C:\\ProgramData\\anaconda3\\Lib\\site-packages\\IPython\\core\\interactiveshell.py\", line 3024, in run_cell\n",
      "    result = self._run_cell(\n",
      "  File \"C:\\ProgramData\\anaconda3\\Lib\\site-packages\\IPython\\core\\interactiveshell.py\", line 3079, in _run_cell\n",
      "    result = runner(coro)\n",
      "  File \"C:\\ProgramData\\anaconda3\\Lib\\site-packages\\IPython\\core\\async_helpers.py\", line 129, in _pseudo_sync_runner\n",
      "    coro.send(None)\n",
      "  File \"C:\\ProgramData\\anaconda3\\Lib\\site-packages\\IPython\\core\\interactiveshell.py\", line 3284, in run_cell_async\n",
      "    has_raised = await self.run_ast_nodes(code_ast.body, cell_name,\n",
      "  File \"C:\\ProgramData\\anaconda3\\Lib\\site-packages\\IPython\\core\\interactiveshell.py\", line 3466, in run_ast_nodes\n",
      "    if await self.run_code(code, result, async_=asy):\n",
      "  File \"C:\\ProgramData\\anaconda3\\Lib\\site-packages\\IPython\\core\\interactiveshell.py\", line 3526, in run_code\n",
      "    exec(code_obj, self.user_global_ns, self.user_ns)\n",
      "  File \"C:\\Users\\DELL\\AppData\\Local\\Temp\\ipykernel_10744\\3008822871.py\", line 16, in <module>\n",
      "    f1()\n",
      "  File \"C:\\Users\\DELL\\AppData\\Local\\Temp\\ipykernel_10744\\3008822871.py\", line 9, in f1\n",
      "    return abc()\n",
      "  File \"C:\\Users\\DELL\\AppData\\Local\\Temp\\ipykernel_10744\\3008822871.py\", line 13, in abc\n",
      "    traceback.print_stack()\n"
     ]
    }
   ],
   "source": [
    " # Import the 'traceback' module.\n",
    "import traceback\n",
    "\n",
    "print()\n",
    "\n",
    "def f1():\n",
    "    return abc()\n",
    "def abc():\n",
    "    traceback.print_stack()\n",
    "\n",
    "f1()\n",
    "\n",
    "print()\n"
   ]
  },
  {
   "cell_type": "code",
   "execution_count": 53,
   "id": "c1683627",
   "metadata": {},
   "outputs": [
    {
     "name": "stdout",
     "output_type": "stream",
     "text": [
      "\n",
      "ArithmeticError AssertionError AttributeError BaseException BaseExceptionGroup BlockingIOError BrokenPipeError BufferError\n",
      "BytesWarning ChildProcessError ConnectionAbortedError ConnectionError ConnectionRefusedError ConnectionResetError D DeprecationWarning\n",
      "EOFError Ellipsis EncodingWarning EnvironmentError Exception ExceptionGroup False FileExistsError\n",
      "FileNotFoundError FloatingPointError FutureWarning GeneratorExit IOError ImportError ImportWarning In\n",
      "IndentationError IndexError InterruptedError IsADirectoryError KeyError KeyboardInterrupt L LookupError\n",
      "MemoryError ModuleNotFoundError NameError None NotADirectoryError NotImplemented NotImplementedError OSError\n",
      "Out OverflowError PendingDeprecationWarning PermissionError ProcessLookupError RecursionError ReferenceError ResourceWarning\n",
      "RuntimeError RuntimeWarning S ST_CTIME ST_MODE S_ISREG StopAsyncIteration StopIteration\n",
      "SyntaxError SyntaxWarning SystemError SystemExit T TabError TimeoutError True\n",
      "TypeError UnboundLocalError UnicodeDecodeError UnicodeEncodeError UnicodeError UnicodeTranslateError UnicodeWarning UserWarning\n",
      "ValueError Warning WindowsError ZeroDivisionError __ __IPYTHON__ ___ __build_class__\n",
      "__builtin__ __builtins__ __debug__ __doc__ __import__ __loader__ __name__ __package__\n",
      "__spec__ _dh _i _i1 _i10 _i11 _i12 _i13\n",
      "_i14 _i15 _i16 _i17 _i18 _i19 _i2 _i20\n",
      "_i21 _i22 _i23 _i24 _i25 _i26 _i27 _i28\n",
      "_i29 _i3 _i30 _i31 _i32 _i33 _i34 _i35\n",
      "_i36 _i37 _i38 _i39 _i4 _i40 _i41 _i42\n",
      "_i43 _i44 _i45 _i46 _i47 _i48 _i49 _i5\n",
      "_i50 _i51 _i52 _i53 _i6 _i7 _i8 _i9\n",
      "_ih _ii _iii _oh a a1 a2 a3\n",
      "abc abs absolute_file_path aiter all anext any ascii\n",
      "atm b bin bmi bool breakpoint bytearray bytes\n",
      "c cProfile callable cdate chr classmethod coded colors\n",
      "compile complex copyright credits d_ft d_inches d_miles d_yards\n",
      "data day days delattr dict dir dir_path display\n",
      "divmod enumerate eprint eval exec execfile exit f1\n",
      "files filter filtered_ips first_ip float format frozenset get_ipython\n",
      "getattr getpass glob globals h_cm h_ft h_inch hasattr\n",
      "hash height help hex hour hours id input\n",
      "int ip_addresses isinstance issubclass iter kpa len license\n",
      "list list_of_colors local_hostname locals map math math_ls max\n",
      "memoryview min minutes mmhg module_name n next num\n",
      "nums object oct open ord os path pow\n",
      "print print_function property psi quit range repr reversed\n",
      "round rounded_bmi runfile s seconds set setattr slice\n",
      "socket sorted soundex sqrt staticmethod str str1 str2\n",
      "str3 sum sum_num sum_of_n_numbers super sys test text\n",
      "textwrap time traceback tuple type vars weight word\n",
      "x x1 x2 x3 x_m_point y y1 y2\n",
      "y_m_point z zip\n",
      "\n"
     ]
    }
   ],
   "source": [
    "# Import the necessary modules.\n",
    "s_var_names = sorted((set(globals().keys()) | set(__builtins__.__dict__.keys())) - set('_ names i'.split()))\n",
    "\n",
    "print()\n",
    "\n",
    "print( '\\n'.join(' '.join(s_var_names[i:i+8]) for i in range(0, len(s_var_names), 8)) )\n",
    "\n",
    "print()\n"
   ]
  },
  {
   "cell_type": "code",
   "execution_count": 54,
   "id": "5881ceaf",
   "metadata": {},
   "outputs": [
    {
     "name": "stdout",
     "output_type": "stream",
     "text": [
      "\n",
      "Wed Jun 26 20:36:55 2024\n",
      "\n"
     ]
    }
   ],
   "source": [
    "# Import the 'time' module to work with time-related functions.\n",
    "import time\n",
    "\n",
    "# Print an empty line for formatting.\n",
    "print()\n",
    "\n",
    "print(time.ctime())\n",
    "print()\n"
   ]
  },
  {
   "cell_type": "code",
   "execution_count": 55,
   "id": "1d04817d",
   "metadata": {},
   "outputs": [
    {
     "data": {
      "text/plain": [
       "1"
      ]
     },
     "execution_count": 55,
     "metadata": {},
     "output_type": "execute_result"
    }
   ],
   "source": [
    "# Import the 'os' and 'time' modules to work with system commands and time-related functions, respectively.\n",
    "\n",
    "import os\n",
    "import time\n",
    "\n",
    "# Execute the 'ls' command to list the contents of the current directory.\n",
    "os.system(\"ls\")\n",
    "\n",
    "# Pause the program's execution for 2 seconds.\n",
    "time.sleep(2)\n",
    "\n",
    "# Clear the terminal screen.\n",
    "os.system('clear')\n"
   ]
  },
  {
   "cell_type": "code",
   "execution_count": 59,
   "id": "d04799fa",
   "metadata": {},
   "outputs": [
    {
     "name": "stdout",
     "output_type": "stream",
     "text": [
      "Host name: DESKTOP-J58QNMF\n"
     ]
    }
   ],
   "source": [
    "# Import the 'platform' module to retrieve system-related information.\n",
    "import platform\n",
    "# Use 'platform.uname()' to obtain a tuple of information about the system, including the host name.\n",
    "host_name = platform.uname()[1]\n",
    "\n",
    "# Print the host name to the console.\n",
    "print(\"Host name:\", host_name)\n"
   ]
  },
  {
   "cell_type": "code",
   "execution_count": null,
   "id": "b91f6df5",
   "metadata": {},
   "outputs": [],
   "source": []
  }
 ],
 "metadata": {
  "kernelspec": {
   "display_name": "Python 3 (ipykernel)",
   "language": "python",
   "name": "python3"
  },
  "language_info": {
   "codemirror_mode": {
    "name": "ipython",
    "version": 3
   },
   "file_extension": ".py",
   "mimetype": "text/x-python",
   "name": "python",
   "nbconvert_exporter": "python",
   "pygments_lexer": "ipython3",
   "version": "3.11.5"
  }
 },
 "nbformat": 4,
 "nbformat_minor": 5
}
