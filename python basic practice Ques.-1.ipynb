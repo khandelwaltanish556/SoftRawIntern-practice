{
 "cells": [
  {
   "cell_type": "code",
   "execution_count": 14,
   "id": "d0e4109a",
   "metadata": {},
   "outputs": [
    {
     "name": "stdout",
     "output_type": "stream",
     "text": [
      " Twinkle, twinkle,little star,\n",
      "            How I wonder what you are!\n",
      "                    Up above the world so high,\n",
      "                    Like a dimond in the sky.\n",
      "       Twinkle,twinkle,littile star,\n",
      "                 How I wonder what you are \n"
     ]
    }
   ],
   "source": [
    "a = \"\"\" Twinkle, twinkle,little star,\n",
    "            How I wonder what you are!\n",
    "                    Up above the world so high,\n",
    "                    Like a dimond in the sky.\n",
    "       Twinkle,twinkle,littile star,\n",
    "                 How I wonder what you are \"\"\"\n",
    "print(a)"
   ]
  },
  {
   "cell_type": "code",
   "execution_count": 25,
   "id": "9c9c98b9",
   "metadata": {},
   "outputs": [
    {
     "name": "stdout",
     "output_type": "stream",
     "text": [
      "Python version\n",
      "3.11.5 | packaged by Anaconda, Inc. | (main, Sep 11 2023, 13:26:23) [MSC v.1916 64 bit (AMD64)]\n",
      "version info\n",
      "sys.version_info(major=3, minor=11, micro=5, releaselevel='final', serial=0)\n"
     ]
    }
   ],
   "source": [
    "import sys\n",
    "print('Python version')\n",
    "\n",
    "print(sys.version)\n",
    "\n",
    "print(\"version info\")\n",
    "\n",
    "print(sys.version_info)"
   ]
  },
  {
   "cell_type": "code",
   "execution_count": 26,
   "id": "e637e730",
   "metadata": {},
   "outputs": [
    {
     "name": "stdout",
     "output_type": "stream",
     "text": [
      "current date and time:\n",
      "2024-06-25 14:41:59\n"
     ]
    }
   ],
   "source": [
    "import datetime\n",
    "\n",
    "current_datetime = datetime.datetime.now()\n",
    "\n",
    "formatted_datetime = current_datetime.strftime(\"%Y-%m-%d %H:%M:%S\")\n",
    "\n",
    "print(\"current date and time:\")\n",
    "print(formatted_datetime)"
   ]
  },
  {
   "cell_type": "code",
   "execution_count": 29,
   "id": "d624f999",
   "metadata": {},
   "outputs": [
    {
     "name": "stdout",
     "output_type": "stream",
     "text": [
      "enter your radius of the circle :-->1\n",
      "The areaof the circle with radius 1is: 3.141592653589793\n"
     ]
    }
   ],
   "source": [
    "from math import pi\n",
    "r = int(input(\"enter your radius of the circle :-->\"))\n",
    "\n",
    "area = pi * r ** 2\n",
    "\n",
    "print(\"The areaof the circle with radius \" + str(r) + \"is: \" + str(area))"
   ]
  },
  {
   "cell_type": "code",
   "execution_count": 50,
   "id": "6ac568ac",
   "metadata": {},
   "outputs": [
    {
     "name": "stdout",
     "output_type": "stream",
     "text": [
      "enter your fname :-->Tanish\n",
      "enter your lname : -->khandelwal\n",
      "Tanish khandelwal\n"
     ]
    }
   ],
   "source": [
    "fname = input(\"enter your fname :-->\")\n",
    "lname = input(\"enter your lname : -->\")\n",
    "\n",
    "print(fname + \" \" +lname)"
   ]
  },
  {
   "cell_type": "code",
   "execution_count": 1,
   "id": "a4307adb",
   "metadata": {},
   "outputs": [
    {
     "name": "stdout",
     "output_type": "stream",
     "text": [
      "enter your coma-seperate numbers :-->1,2,3,4\n",
      "List : ['1', '2', '3', '4']\n",
      "Tuple :  ('1', '2', '3', '4')\n"
     ]
    }
   ],
   "source": [
    "values = (input(\"enter your coma-seperate numbers :-->\"))\n",
    "list = values.split(\",\")\n",
    "tuple = tuple(list)\n",
    "print('List :', list)\n",
    "print('Tuple : ', tuple)"
   ]
  },
  {
   "cell_type": "code",
   "execution_count": 36,
   "id": "f67644ca",
   "metadata": {},
   "outputs": [
    {
     "name": "stdout",
     "output_type": "stream",
     "text": [
      "enter your file name :-->abc.java\n",
      "the extention of file is : 'java'\n"
     ]
    }
   ],
   "source": [
    "file_name = input(\"enter your file name :-->\")\n",
    "f_extns = file_name.split(\".\")\n",
    "print(\"the extention of file is : \" + repr(f_extns[1]))"
   ]
  },
  {
   "cell_type": "code",
   "execution_count": 29,
   "id": "b18b02de",
   "metadata": {},
   "outputs": [
    {
     "name": "stdout",
     "output_type": "stream",
     "text": [
      "red black\n"
     ]
    }
   ],
   "source": [
    "color_list = [\"red\", \"green\", \"white\", \"black\"]\n",
    "print(\"%s %s\" % (color_list[0], color_list[-1]))"
   ]
  },
  {
   "cell_type": "code",
   "execution_count": 30,
   "id": "b34c3c30",
   "metadata": {},
   "outputs": [
    {
     "name": "stdout",
     "output_type": "stream",
     "text": [
      "The examination date will start from : 26 / 6 / 2024\n"
     ]
    }
   ],
   "source": [
    "exam_st_date = (26, 6, 2024)\n",
    "\n",
    "print(\"The examination date will start from : %i / %i / %i\" % exam_st_date)"
   ]
  },
  {
   "cell_type": "code",
   "execution_count": 34,
   "id": "80a39000",
   "metadata": {},
   "outputs": [
    {
     "name": "stdout",
     "output_type": "stream",
     "text": [
      "enter your number :-->5\n",
      "615\n"
     ]
    }
   ],
   "source": [
    "a = int(input(\"enter your number :-->\"))\n",
    "n1 = int(\"%s\" % a)\n",
    "n2 = int(\"%s%s\" % (a, a))\n",
    "n3 = int(\"%s%s%s\" % (a, a, a))\n",
    "\n",
    "print(n1 + n2 + n3)"
   ]
  },
  {
   "cell_type": "code",
   "execution_count": 48,
   "id": "695a7e98",
   "metadata": {},
   "outputs": [
    {
     "name": "stdout",
     "output_type": "stream",
     "text": [
      "enter your year :-->2024\n",
      "enter your month :-->6\n",
      "     June 2024\n",
      "Mo Tu We Th Fr Sa Su\n",
      "                1  2\n",
      " 3  4  5  6  7  8  9\n",
      "10 11 12 13 14 15 16\n",
      "17 18 19 20 21 22 23\n",
      "24 25 26 27 28 29 30\n",
      "\n"
     ]
    }
   ],
   "source": [
    "import calendar\n",
    "y = int(input(\"enter your year :-->\"))\n",
    "m = int(input(\"enter your month :-->\"))\n",
    "print(calendar.month(y, m))"
   ]
  },
  {
   "cell_type": "code",
   "execution_count": 52,
   "id": "1744ea04",
   "metadata": {},
   "outputs": [
    {
     "name": "stdout",
     "output_type": "stream",
     "text": [
      "9\n"
     ]
    }
   ],
   "source": [
    "a = (2014, 7, 2)\n",
    "b = (2014, 7, 11)\n",
    "\n",
    "days = (11)\n",
    "days1 = (2)\n",
    "sum = days - days1 \n",
    "print(sum)"
   ]
  },
  {
   "cell_type": "code",
   "execution_count": 53,
   "id": "202a9565",
   "metadata": {},
   "outputs": [
    {
     "name": "stdout",
     "output_type": "stream",
     "text": [
      "the volue of the sphere is:  904.3199999999999\n"
     ]
    }
   ],
   "source": [
    "pi = 3.14\n",
    "\n",
    "r = 6.0\n",
    "\n",
    "v = 4.0/3.0 * pi * r**3\n",
    "\n",
    "print(\"the volue of the sphere is: \", v)"
   ]
  },
  {
   "cell_type": "code",
   "execution_count": 54,
   "id": "c07cc730",
   "metadata": {},
   "outputs": [
    {
     "name": "stdout",
     "output_type": "stream",
     "text": [
      "10\n",
      "3\n"
     ]
    }
   ],
   "source": [
    "def difference(n):\n",
    "    if n <= 17:\n",
    "        return 17 - n\n",
    "    else:\n",
    "        # If n is greater than 17, return the absolute difference between n and 17 multiplied by 2\n",
    "        return (n - 17) * 2\n",
    "\n",
    "# Call the \"difference\" function with the argument 22 and print the result\n",
    "print(difference(22))\n",
    "\n",
    "# Call the \"difference\" function with the argument 14 and print the result\n",
    "print(difference(14))"
   ]
  },
  {
   "cell_type": "code",
   "execution_count": 1,
   "id": "d60895f0",
   "metadata": {},
   "outputs": [
    {
     "name": "stdout",
     "output_type": "stream",
     "text": [
      "1\n",
      "6\n"
     ]
    }
   ],
   "source": [
    "# Define a function named \"difference\" that takes an integer parameter \"n\"\n",
    "def difference(n):\n",
    "    # Check if n is less than or equal to 17\n",
    "    if n <= 17:\n",
    "        # If n is less than or equal to 17, return the absolute difference between 17 and n\n",
    "        return 17 - n\n",
    "    else:\n",
    "        # If n is greater than 17, return the absolute difference between n and 17 multiplied by 2\n",
    "        return (n - 17) * 2\n",
    "\n",
    "# Call the \"difference\" function with the argument 22 and print the result\n",
    "print(difference(16))\n",
    "\n",
    "# Call the \"difference\" function with the argument 14 and print the result\n",
    "print(difference(11))"
   ]
  },
  {
   "cell_type": "code",
   "execution_count": 5,
   "id": "bdd7cd7a",
   "metadata": {},
   "outputs": [
    {
     "name": "stdout",
     "output_type": "stream",
     "text": [
      "True\n",
      "False\n"
     ]
    }
   ],
   "source": [
    "# Define a function named \"near_thousand\" that takes an integer parameter \"n\"\n",
    "def near_thousand(n):\n",
    "    # Check if the absolute difference between 1000 and n is less than or equal to 100\n",
    "    # OR check if the absolute difference between 2000 and n is less than or equal to 100\n",
    "    return ((abs(1000 - n) <= 100) or (abs(2000 - n) <= 100))\n",
    "\n",
    "# Call the \"near_thousand\" function with the argument 1000 and print the result\n",
    "print(near_thousand(1000))\n",
    "\n",
    "# Call the fuction with arguments\n",
    "print(near_thousand(2200))\n"
   ]
  },
  {
   "cell_type": "code",
   "execution_count": 6,
   "id": "773362ac",
   "metadata": {},
   "outputs": [
    {
     "name": "stdout",
     "output_type": "stream",
     "text": [
      "6\n",
      "18\n"
     ]
    }
   ],
   "source": [
    "# Define a function named \"sum_thrice\" that takes three integer parameters: x, y, and z\n",
    "def sum_thrice(x, y, z):\n",
    "    sum = x + y + z\n",
    "    \n",
    "    if x == y == z:\n",
    "        sum = sum * 2\n",
    "    # Return the final sum\n",
    "    return sum\n",
    "# Call the \"sum_thrice\" function with the arguments (1, 2, 3) and print the result\n",
    "print(sum_thrice(1, 2, 3))\n",
    "\n",
    "# Call the \"sum_thrice\" function with the arguments (3, 3, 3) and print the result\n",
    "print(sum_thrice(3, 3, 3))\n"
   ]
  },
  {
   "cell_type": "code",
   "execution_count": 4,
   "id": "9554a7a9",
   "metadata": {},
   "outputs": [
    {
     "name": "stdout",
     "output_type": "stream",
     "text": [
      "IsArray\n",
      "IsEmpty\n"
     ]
    }
   ],
   "source": [
    "# Define a function named \"new_string\" that takes a string parameter called \"text\"\n",
    "def new_string(text):\n",
    "    if len(text) >= 2 and text[:2] == \"Is\":\n",
    "        # If the conditions are met, return the original \"text\" unchanged\n",
    "        return text\n",
    "    else:\n",
    "        return \"Is\" + text\n",
    "\n",
    "# Call the \"new_string\" function with the argument \"Array\" and print the result\n",
    "print(new_string(\"Array\"))\n",
    "\n",
    "# Call the \"new_string\" function with the argument \"IsEmpty\" and print the result\n",
    "print(new_string(\"IsEmpty\"))\n"
   ]
  },
  {
   "cell_type": "code",
   "execution_count": 5,
   "id": "b88daad1",
   "metadata": {},
   "outputs": [
    {
     "name": "stdout",
     "output_type": "stream",
     "text": [
      "abcabc\n",
      ".py.py.py\n"
     ]
    }
   ],
   "source": [
    "def larger_string(text, n):\n",
    "    result = \"\"\n",
    "    # Use a for loop to repeat the \"text\" \"n\" times and concatenate it to the \"result\"\n",
    "    for i in range(n):\n",
    "        result = result + text\n",
    "    # Return the final \"result\" string\n",
    "    return result\n",
    "\n",
    "# Call the \"larger_string\" function with the arguments 'abc' and 2, then print the result\n",
    "print(larger_string('abc', 2))\n",
    "\n",
    "# Call the \"larger_string\" function with the arguments '.py' and 3, then print the result\n",
    "print(larger_string('.py', 3))\n"
   ]
  },
  {
   "cell_type": "code",
   "execution_count": 6,
   "id": "d51b8857",
   "metadata": {},
   "outputs": [
    {
     "name": "stdout",
     "output_type": "stream",
     "text": [
      "Enter a number: 6\n",
      "This is an even number.\n"
     ]
    }
   ],
   "source": [
    "num = int(input(\"Enter a number: \"))\n",
    "mod = num % 2\n",
    "if mod > 0:\n",
    "    print(\"This is an odd number.\")\n",
    "else:\n",
    "    print(\"This is an even number.\")\n"
   ]
  },
  {
   "cell_type": "code",
   "execution_count": 7,
   "id": "73a98936",
   "metadata": {},
   "outputs": [
    {
     "name": "stdout",
     "output_type": "stream",
     "text": [
      "2\n",
      "3\n"
     ]
    }
   ],
   "source": [
    "def list_count_4(nums):\n",
    "    count = 0\n",
    "  # Iterate through each element (num) in the input list (nums).\n",
    "    for num in nums:\n",
    "        if num == 4:\n",
    "            count = count + 1\n",
    "  # Return the final count after iterating through the list.\n",
    "    return count\n",
    "\n",
    "# Call the list_count_4 function with two different input lists and print the results.\n",
    "print(list_count_4([1, 4, 6, 7, 4])) \n",
    "print(list_count_4([1, 4, 6, 4, 7, 4]))\n"
   ]
  },
  {
   "cell_type": "code",
   "execution_count": 4,
   "id": "67e801a4",
   "metadata": {},
   "outputs": [
    {
     "name": "stdout",
     "output_type": "stream",
     "text": [
      "abab\n",
      "ppp\n"
     ]
    }
   ],
   "source": [
    "def substring_copy(text, n):\n",
    "  # Set the initial value of flen (substring length) to 2.\n",
    "  flen = 2\n",
    "    \n",
    "    if flen > len(text):\n",
    "        flen = len(text)\n",
    "\n",
    "    result = \"\"\n",
    "\n",
    "  # Iterate n times to concatenate the substring to the result.\n",
    "  for i in range(n):\n",
    "    result = result + substr\n",
    "\n",
    "  # Return the final result after concatenating substrings.\n",
    "  return result\n",
    "\n",
    "# Call the substring_copy function with two different inputs and print the results.\n",
    "print(substring_copy('abcdef', 2))  \n",
    "print(substring_copy('p', 3))  "
   ]
  },
  {
   "cell_type": "code",
   "execution_count": 9,
   "id": "0acbbb6b",
   "metadata": {},
   "outputs": [
    {
     "name": "stdout",
     "output_type": "stream",
     "text": [
      "False\n",
      "True\n"
     ]
    }
   ],
   "source": [
    "def is_vowel(char):    \n",
    "    all_vowels = 'aeiou'\n",
    "    return char in all_vowels\n",
    "\n",
    "# Call the is_vowel function with two different characters and print the results.\n",
    "print(is_vowel('c'))  \n",
    "print(is_vowel('e')) \n"
   ]
  },
  {
   "cell_type": "code",
   "execution_count": 10,
   "id": "9ec30a49",
   "metadata": {},
   "outputs": [
    {
     "name": "stdout",
     "output_type": "stream",
     "text": [
      "True\n",
      "False\n"
     ]
    }
   ],
   "source": [
    "def is_group_member(group_data, n):\n",
    "    for value in group_data:\n",
    "        \n",
    "        if n == value:\n",
    "            return True  .\n",
    "    return False  \n",
    "# Call the is_group_member function with two different lists and integers, and print the results.\n",
    "print(is_group_member([1, 5, 8, 3], 3))  \n",
    "print(is_group_member([5, 8, 3], -1))    \n"
   ]
  },
  {
   "cell_type": "code",
   "execution_count": 11,
   "id": "838e8bb3",
   "metadata": {},
   "outputs": [
    {
     "name": "stdout",
     "output_type": "stream",
     "text": [
      "**\n",
      "***\n",
      "******\n",
      "*****\n"
     ]
    }
   ],
   "source": [
    "def histogram(items):\n",
    "    for n in items:\n",
    "        output = ''  \n",
    "        times = n     \n",
    "        \n",
    "        \n",
    "        while times > 0:\n",
    "            output += '*'\n",
    "            times = times - 1  \n",
    "        # Print the resulting output string.\n",
    "        print(output)\n",
    "\n",
    "# Call the histogram function with a list of numbers and print the histogram.\n",
    "histogram([2, 3, 6, 5])\n"
   ]
  },
  {
   "cell_type": "code",
   "execution_count": 12,
   "id": "a933f65f",
   "metadata": {},
   "outputs": [
    {
     "name": "stdout",
     "output_type": "stream",
     "text": [
      "15122\n"
     ]
    }
   ],
   "source": [
    "def concatenate_list_data(lst):\n",
    "    result = ''  \n",
    "    \n",
    "    for element in lst:\n",
    "        result += str(element)\n",
    "\n",
    "    return result  \n",
    "\n",
    "# Call the concatenate_list_data function \n",
    "print(concatenate_list_data([1, 5, 12, 2]))\n"
   ]
  },
  {
   "cell_type": "code",
   "execution_count": 13,
   "id": "6eacd7bf",
   "metadata": {},
   "outputs": [
    {
     "name": "stdout",
     "output_type": "stream",
     "text": [
      "386\n",
      "462\n",
      "418\n",
      "344\n",
      "236\n",
      "566\n",
      "978\n",
      "328\n",
      "162\n",
      "758\n",
      "918\n",
      "237\n"
     ]
    }
   ],
   "source": [
    "numbers = [    \n",
    "    386, 462, 47, 418, 907, 344, 236, 375, 823, 566, 597, 978, 328, 615, 953, 345, \n",
    "    399, 162, 758, 219, 918, 237, 412, 566, 826, 248, 866, 950, 626, 949, 687, 217, \n",
    "    815, 67, 104, 58, 512, 24, 892, 894, 767, 553, 81, 379, 843, 831, 445, 742, 717, \n",
    "    958,743, 527\n",
    "]\n",
    "\n",
    "# Iterate through the numbers in the list.\n",
    "for x in numbers:\n",
    "    if x == 237:\n",
    "        print(x)  \n",
    "        break  \n",
    "    elif x % 2 == 0:\n",
    "        print(x)  \n"
   ]
  },
  {
   "cell_type": "code",
   "execution_count": 14,
   "id": "40a48649",
   "metadata": {},
   "outputs": [
    {
     "name": "stdout",
     "output_type": "stream",
     "text": [
      "Original set elements:\n",
      "{'White', 'Black', 'Red'}\n",
      "{'Green', 'Red'}\n",
      "\n",
      "Difference of color_list_1 and color_list_2:\n",
      "{'White', 'Black'}\n",
      "\n",
      "Difference of color_list_2 and color_list_1:\n",
      "{'Green'}\n"
     ]
    }
   ],
   "source": [
    "color_list_1 = set([\"White\", \"Black\", \"Red\"])\n",
    "color_list_2 = set([\"Red\", \"Green\"])\n",
    "\n",
    "# Print the original elements of the sets.\n",
    "print(\"Original set elements:\")\n",
    "print(color_list_1)\n",
    "print(color_list_2)\n",
    "\n",
    "# Calculate and print the difference of color_list and color_list2.\n",
    "print(\"\\nDifference of color_list_1 and color_list_2:\")\n",
    "print(color_list_1.difference(color_list_2))\n",
    "\n",
    "# Calculate and print the difference of color_list_2 and color_list_1.\n",
    "print(\"\\nDifference of color_list_2 and color_list_1:\")\n",
    "print(color_list_2.difference(color_list_1))\n"
   ]
  },
  {
   "cell_type": "code",
   "execution_count": 15,
   "id": "a5a6ac62",
   "metadata": {},
   "outputs": [
    {
     "name": "stdout",
     "output_type": "stream",
     "text": [
      "Input the base : 5\n",
      "Input the height : 6\n",
      "area =  15.0\n"
     ]
    }
   ],
   "source": [
    ".b = int(input(\"Input the base : \"))\n",
    "h = int(input(\"Input the height : \"))\n",
    "\n",
    "# Calculate the area of the triangle using the formula: (base * height) / 2.\n",
    "area = b * h / 2\n",
    "\n",
    "# Print the calculated area of the triangle.\n",
    "print(\"area = \", area)\n"
   ]
  },
  {
   "cell_type": "code",
   "execution_count": 16,
   "id": "0865fc98",
   "metadata": {},
   "outputs": [
    {
     "name": "stdout",
     "output_type": "stream",
     "text": [
      "GCD of 12 & 17 = 1\n",
      "GCD of 4 & 6 = 2\n",
      "GCD of 336 & 360 = 24\n"
     ]
    }
   ],
   "source": [
    "def gcd(x, y):\n",
    "    z = x % y\n",
    "    while z:\n",
    "        x = y\n",
    "        y = z\n",
    "        z = x % y\n",
    "    \n",
    "    # When z becomes 0, y contains the GCD, so return y.\n",
    "    return y\n",
    "\n",
    "# Print the GCD of specific pairs of numbers.\n",
    "print(\"GCD of 12 & 17 =\", gcd(12, 17))\n",
    "print(\"GCD of 4 & 6 =\", gcd(4, 6))\n",
    "print(\"GCD of 336 & 360 =\", gcd(336, 360))\n"
   ]
  },
  {
   "cell_type": "code",
   "execution_count": 8,
   "id": "defe317a",
   "metadata": {},
   "outputs": [
    {
     "name": "stdout",
     "output_type": "stream",
     "text": [
      "35\n",
      "255\n"
     ]
    }
   ],
   "source": [
    "def lcm(x, y):\n",
    "    if x > y:\n",
    "        z = x\n",
    "    else:\n",
    "        z = y\n",
    "    # Use a 'while' loop to find the LCM.\n",
    "    while True:\n",
    "        # Check if 'z' is divisible by both 'x' and 'y' with no remainder.\n",
    "        if (z % x == 0) and (z % y == 0):\n",
    "            lcm = z\n",
    "            break\n",
    "        z += 1\n",
    "    \n",
    "    # Return the calculated LCM.\n",
    "    return lcm\n",
    "\n",
    "print(lcm(7, 5))\n",
    "print(lcm(17, 15))\n"
   ]
  },
  {
   "cell_type": "code",
   "execution_count": 18,
   "id": "9f684acf",
   "metadata": {},
   "outputs": [
    {
     "name": "stdout",
     "output_type": "stream",
     "text": [
      "0\n",
      "0\n",
      "0\n",
      "6\n"
     ]
    }
   ],
   "source": [
    "def sum_three(x, y, z):\n",
    "    if x == y or y == z or x == z:\n",
    "        sum = 0\n",
    "    else:\n",
    "        sum = x + y + z\n",
    "    # Return the calculated sum.\n",
    "    return sum\n",
    "\n",
    "print(sum_three(2, 1, 2))\n",
    "print(sum_three(3, 2, 2))\n",
    "print(sum_three(2, 2, 2))\n",
    "print(sum_three(1, 2, 3))\n"
   ]
  },
  {
   "cell_type": "code",
   "execution_count": 9,
   "id": "40f73904",
   "metadata": {},
   "outputs": [
    {
     "name": "stdout",
     "output_type": "stream",
     "text": [
      "20\n",
      "20\n",
      "22\n"
     ]
    }
   ],
   "source": [
    "def sum(x, y):\n",
    "    sum = x + y\n",
    "    if sum in range(10, 20):\n",
    "        return 20\n",
    "    else:\n",
    "        return sum\n",
    "print(sum(10, 6))\n",
    "print(sum(10, 2))\n",
    "print(sum(10, 12))\n"
   ]
  },
  {
   "cell_type": "code",
   "execution_count": 10,
   "id": "85523933",
   "metadata": {},
   "outputs": [
    {
     "name": "stdout",
     "output_type": "stream",
     "text": [
      "True\n",
      "True\n"
     ]
    }
   ],
   "source": [
    "def test_number5(x, y):\n",
    "    if x == y or abs(x - y) == 5 or (x + y) == 5:\n",
    "        return True\n",
    "    else:\n",
    "        return False\n",
    "print(test_number5(7, 2))\n",
    "print(test_number5(3, 2))"
   ]
  },
  {
   "cell_type": "code",
   "execution_count": 11,
   "id": "5ba9be3f",
   "metadata": {},
   "outputs": [
    {
     "name": "stdout",
     "output_type": "stream",
     "text": [
      "30\n",
      "Inputs must be integers!\n",
      "Inputs must be integers!\n",
      "Inputs must be integers!\n"
     ]
    }
   ],
   "source": [
    "def add_numbers(a, b):\n",
    "    if not (isinstance(a, int) and isinstance(b, int)):\n",
    "        return \"Inputs must be integers!\"\n",
    "    return a + b\n",
    "print(add_numbers(10, 20))     \n",
    "print(add_numbers(10, 20.23))  \n",
    "print(add_numbers('5', 6))     \n",
    "print(add_numbers('5', '6'))   \n"
   ]
  },
  {
   "cell_type": "code",
   "execution_count": 12,
   "id": "0c21d92e",
   "metadata": {},
   "outputs": [
    {
     "name": "stdout",
     "output_type": "stream",
     "text": [
      "Name: Tanish\n",
      "Age: 19\n",
      "Address: jaipur, Rajasthan, India\n"
     ]
    }
   ],
   "source": [
    "def personal_details():\n",
    "    name, age = \"Tanish\", 19\n",
    "    address = \"jaipur, Rajasthan, India\"\n",
    "    print(\"Name: {}\\nAge: {}\\nAddress: {}\".format(name, age, address))\n",
    "\n",
    "# Call the 'personal_details' function to display the details.\n",
    "personal_details()\n"
   ]
  },
  {
   "cell_type": "code",
   "execution_count": 23,
   "id": "4cf03737",
   "metadata": {},
   "outputs": [
    {
     "name": "stdout",
     "output_type": "stream",
     "text": [
      "(4 + 3) ^ 2) = 49\n"
     ]
    }
   ],
   "source": [
    "x, y = 4, 3\n",
    "result = x * x + 2 * x * y + y * y\n",
    "print(\"({} + {}) ^ 2) = {}\".format(x, y, result))\n"
   ]
  },
  {
   "cell_type": "code",
   "execution_count": 13,
   "id": "607b9742",
   "metadata": {},
   "outputs": [
    {
     "name": "stdout",
     "output_type": "stream",
     "text": [
      "1272.28\n"
     ]
    }
   ],
   "source": [
    "amt = 1000\n",
    "int = 3.5\n",
    "years = 7\n",
    "future_value = amt * ((1 + (0.01 * int)) ** years)\n",
    "print(round(future_value, 2))\n"
   ]
  },
  {
   "cell_type": "code",
   "execution_count": 25,
   "id": "21dcdd7a",
   "metadata": {},
   "outputs": [
    {
     "name": "stdout",
     "output_type": "stream",
     "text": [
      "6.324555320336759\n"
     ]
    }
   ],
   "source": [
    "import math\n",
    "p1 = [4, 0]\n",
    "p2 = [6, 6]\n",
    "distance = math.sqrt(((p1[0] - p2[0]) ** 2) + ((p1[1] - p2[1]) ** 2))\n",
    "print(distance)\n"
   ]
  },
  {
   "cell_type": "code",
   "execution_count": 26,
   "id": "1c498652",
   "metadata": {},
   "outputs": [
    {
     "name": "stdout",
     "output_type": "stream",
     "text": [
      "False\n",
      "False\n"
     ]
    }
   ],
   "source": [
    "import os.path\n",
    "print(os.path.isfile('main.txt'))\n",
    "print(os.path.isfile('main.py'))\n"
   ]
  },
  {
   "cell_type": "code",
   "execution_count": 27,
   "id": "b7821cbf",
   "metadata": {},
   "outputs": [
    {
     "name": "stdout",
     "output_type": "stream",
     "text": [
      "64\n"
     ]
    }
   ],
   "source": [
    "import struct\n",
    "print(struct.calcsize(\"P\") * 8)\n"
   ]
  },
  {
   "cell_type": "code",
   "execution_count": 15,
   "id": "f5fa5a2c",
   "metadata": {},
   "outputs": [
    {
     "name": "stdout",
     "output_type": "stream",
     "text": [
      "Name of the operating system:  nt\n",
      "\n",
      "Name of the OS system: Windows\n",
      "\n",
      "Version of the operating system: 10\n"
     ]
    }
   ],
   "source": [
    "\n",
    "import platform\n",
    "import os\n",
    "print(\"Name of the operating system: \", os.name)\n",
    "print(\"\\nName of the OS system:\", platform.system())\n",
    "print(\"\\nVersion of the operating system:\", platform.release())\n"
   ]
  },
  {
   "cell_type": "code",
   "execution_count": 29,
   "id": "8b84123b",
   "metadata": {},
   "outputs": [
    {
     "name": "stdout",
     "output_type": "stream",
     "text": [
      "['C:\\\\ProgramData\\\\anaconda3', 'C:\\\\ProgramData\\\\anaconda3\\\\Lib\\\\site-packages']\n"
     ]
    }
   ],
   "source": [
    "import site\n",
    "print(site.getsitepackages())\n"
   ]
  },
  {
   "cell_type": "code",
   "execution_count": 32,
   "id": "3034b75e",
   "metadata": {},
   "outputs": [
    {
     "name": "stdout",
     "output_type": "stream",
     "text": [
      "Current File Name:  C:\\Program Files\n"
     ]
    }
   ],
   "source": [
    "import os\n",
    "print(\"Current File Name: \", os.path.realpath('C:\\Program Files' ))\n"
   ]
  },
  {
   "cell_type": "code",
   "execution_count": 33,
   "id": "a3ab389e",
   "metadata": {},
   "outputs": [
    {
     "name": "stdout",
     "output_type": "stream",
     "text": [
      "4\n"
     ]
    }
   ],
   "source": [
    "import multiprocessing\n",
    "cpu_count = multiprocessing.cpu_count()\n",
    "print(cpu_count)\n"
   ]
  },
  {
   "cell_type": "code",
   "execution_count": 3,
   "id": "7fa5ec27",
   "metadata": {},
   "outputs": [
    {
     "name": "stdout",
     "output_type": "stream",
     "text": [
      "246.2458\n",
      "<class 'float'>\n"
     ]
    }
   ],
   "source": [
    "n = \"246.2458\"\n",
    "print(float(n))\n",
    "print(float)\n"
   ]
  },
  {
   "cell_type": "code",
   "execution_count": 1,
   "id": "a0a7e488",
   "metadata": {},
   "outputs": [
    {
     "name": "stdout",
     "output_type": "stream",
     "text": [
      "['desktop.ini']\n"
     ]
    }
   ],
   "source": [
    "from os import listdir\n",
    "from os.path import isfile, join\n",
    "files_list = [f for f in listdir('C:\\Program Files') if isfile(join('C:\\Program Files', f))]\n",
    "print(files_list)\n"
   ]
  },
  {
   "cell_type": "code",
   "execution_count": 4,
   "id": "1c2d8d33",
   "metadata": {},
   "outputs": [
    {
     "name": "stdout",
     "output_type": "stream",
     "text": [
      "**********\n",
      "\n"
     ]
    }
   ],
   "source": [
    "for i in range(0, 10):\n",
    "    print('*', end=\"\")\n",
    "print(\"\\n\")\n"
   ]
  },
  {
   "cell_type": "code",
   "execution_count": null,
   "id": "fa4ddd17",
   "metadata": {},
   "outputs": [],
   "source": []
  }
 ],
 "metadata": {
  "kernelspec": {
   "display_name": "Python 3 (ipykernel)",
   "language": "python",
   "name": "python3"
  },
  "language_info": {
   "codemirror_mode": {
    "name": "ipython",
    "version": 3
   },
   "file_extension": ".py",
   "mimetype": "text/x-python",
   "name": "python",
   "nbconvert_exporter": "python",
   "pygments_lexer": "ipython3",
   "version": "3.11.5"
  }
 },
 "nbformat": 4,
 "nbformat_minor": 5
}
