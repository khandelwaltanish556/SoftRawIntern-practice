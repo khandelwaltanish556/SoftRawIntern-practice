{
 "cells": [
  {
   "cell_type": "code",
   "execution_count": 29,
   "id": "c33dd751",
   "metadata": {},
   "outputs": [
    {
     "name": "stdout",
     "output_type": "stream",
     "text": [
      "['NobodyOexpects', 42, 'the', 2048, 'Spanish', 1492, 'Inquisition!']\n"
     ]
    }
   ],
   "source": [
    "def mixed_string(s):\n",
    "    result = []\n",
    "    current = \"\"\n",
    "    \n",
    "    for char in s:\n",
    "        if char.isdigit():\n",
    "            #check if current is not empty or last character is not a digit\n",
    "            if current and not current[-1].isdigit():\n",
    "                #if true append current to result\n",
    "                result.append(current)\n",
    "                current = char\n",
    "            else:\n",
    "                #check if current either empty or contain digits add the current to result\n",
    "                current += char\n",
    "        else:\n",
    "            #check if current is not empty or last character is a digit\n",
    "            if current and current[-1].isdigit():\n",
    "                #if true convert it into int and append to the result\n",
    "                result.append(int(current))\n",
    "                current = char\n",
    "            else:\n",
    "                current +=char\n",
    "\n",
    "    if current:\n",
    "#check if current is not empty. If it is all digits, convert it to an integer and append it to result;otherwise, append it as a string.\n",
    "        if current.isdigit():\n",
    "            result.append(int(current))\n",
    "        else:\n",
    "            result.append(current)\n",
    "\n",
    "    return result\n",
    "s = \"NobodyOexpects42the2048Spanish1492Inquisition!\"\n",
    "result = mixed_string(s)\n",
    "print(result)\n",
    "\n"
   ]
  },
  {
   "cell_type": "code",
   "execution_count": 27,
   "id": "03d0119c",
   "metadata": {},
   "outputs": [
    {
     "name": "stdout",
     "output_type": "stream",
     "text": [
      "enter a number5\n",
      "1\n",
      "2\n",
      "6\n",
      "24\n",
      "120\n"
     ]
    }
   ],
   "source": [
    "def mysterious_function(n):\n",
    "    if n <= 1:\n",
    "        return 1\n",
    "    return n * mysterious_function(n - 1)\n",
    "\n",
    "a = int(input(\"enter a number\"))\n",
    "for i in range(1,a+1):\n",
    "    print(mysterious_function(i))"
   ]
  },
  {
   "cell_type": "code",
   "execution_count": null,
   "id": "4780db6e",
   "metadata": {},
   "outputs": [],
   "source": []
  }
 ],
 "metadata": {
  "kernelspec": {
   "display_name": "Python 3 (ipykernel)",
   "language": "python",
   "name": "python3"
  },
  "language_info": {
   "codemirror_mode": {
    "name": "ipython",
    "version": 3
   },
   "file_extension": ".py",
   "mimetype": "text/x-python",
   "name": "python",
   "nbconvert_exporter": "python",
   "pygments_lexer": "ipython3",
   "version": "3.11.5"
  }
 },
 "nbformat": 4,
 "nbformat_minor": 5
}
