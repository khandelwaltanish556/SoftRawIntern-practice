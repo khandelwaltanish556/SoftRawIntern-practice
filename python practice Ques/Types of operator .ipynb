{
 "cells": [
  {
   "cell_type": "markdown",
   "id": "f59dba90",
   "metadata": {},
   "source": [
    "# types of operator in python \n",
    "    --> Airthmetic operator\n",
    "        +,-,*,/,//,**,%\n",
    "        \n",
    "    --> Assignment operator \n",
    "        = --> value assign\n",
    "        +=\n",
    "        -=\n",
    "        *=\n",
    "        /=\n",
    "        //=\n",
    "        %=\n",
    "        **="
   ]
  },
  {
   "cell_type": "code",
   "execution_count": 2,
   "id": "1ff71408",
   "metadata": {},
   "outputs": [],
   "source": [
    "a = 10\n"
   ]
  },
  {
   "cell_type": "code",
   "execution_count": 3,
   "id": "a0d1b9da",
   "metadata": {},
   "outputs": [
    {
     "name": "stdout",
     "output_type": "stream",
     "text": [
      "10\n"
     ]
    }
   ],
   "source": [
    "print(a)"
   ]
  },
  {
   "cell_type": "markdown",
   "id": "3f0fee0c",
   "metadata": {},
   "source": [
    "# +=\n"
   ]
  },
  {
   "cell_type": "code",
   "execution_count": 4,
   "id": "97939418",
   "metadata": {},
   "outputs": [
    {
     "name": "stdout",
     "output_type": "stream",
     "text": [
      "30\n"
     ]
    }
   ],
   "source": [
    "a = 10\n",
    "a+=20\n",
    "print(a)"
   ]
  },
  {
   "cell_type": "code",
   "execution_count": 5,
   "id": "240cd10a",
   "metadata": {},
   "outputs": [
    {
     "name": "stdout",
     "output_type": "stream",
     "text": [
      "110\n"
     ]
    }
   ],
   "source": [
    "a = 100\n",
    "a = a+10\n",
    "print(a)"
   ]
  },
  {
   "cell_type": "code",
   "execution_count": 6,
   "id": "9c345569",
   "metadata": {},
   "outputs": [
    {
     "name": "stdout",
     "output_type": "stream",
     "text": [
      "112\n"
     ]
    }
   ],
   "source": [
    "a = 100\n",
    "a+=12\n",
    "print(a)"
   ]
  },
  {
   "cell_type": "markdown",
   "id": "5b12dc1e",
   "metadata": {},
   "source": [
    "# -="
   ]
  },
  {
   "cell_type": "code",
   "execution_count": 7,
   "id": "89febe87",
   "metadata": {},
   "outputs": [
    {
     "name": "stdout",
     "output_type": "stream",
     "text": [
      "900\n"
     ]
    }
   ],
   "source": [
    "a = 1000\n",
    "a = a-100\n",
    "print(a)"
   ]
  },
  {
   "cell_type": "code",
   "execution_count": 8,
   "id": "fb2cfd7c",
   "metadata": {},
   "outputs": [
    {
     "name": "stdout",
     "output_type": "stream",
     "text": [
      "90\n"
     ]
    }
   ],
   "source": [
    "a = 100\n",
    "a-=10\n",
    "print(a)"
   ]
  },
  {
   "cell_type": "code",
   "execution_count": 9,
   "id": "8ff1a184",
   "metadata": {},
   "outputs": [
    {
     "ename": "NameError",
     "evalue": "name 'b' is not defined",
     "output_type": "error",
     "traceback": [
      "\u001b[1;31m---------------------------------------------------------------------------\u001b[0m",
      "\u001b[1;31mNameError\u001b[0m                                 Traceback (most recent call last)",
      "\u001b[1;32m~\\AppData\\Local\\Temp\\ipykernel_66052\\982957201.py\u001b[0m in \u001b[0;36m<module>\u001b[1;34m\u001b[0m\n\u001b[1;32m----> 1\u001b[1;33m \u001b[0mb\u001b[0m \u001b[1;33m-=\u001b[0m\u001b[1;36m100\u001b[0m\u001b[1;33m\u001b[0m\u001b[1;33m\u001b[0m\u001b[0m\n\u001b[0m",
      "\u001b[1;31mNameError\u001b[0m: name 'b' is not defined"
     ]
    }
   ],
   "source": [
    "b -=100"
   ]
  },
  {
   "cell_type": "markdown",
   "id": "997adade",
   "metadata": {},
   "source": [
    "# *=\n"
   ]
  },
  {
   "cell_type": "code",
   "execution_count": 10,
   "id": "17217f96",
   "metadata": {},
   "outputs": [
    {
     "name": "stdout",
     "output_type": "stream",
     "text": [
      "200\n"
     ]
    }
   ],
   "source": [
    "a = 100\n",
    "a*=2\n",
    "print(a)"
   ]
  },
  {
   "cell_type": "markdown",
   "id": "89c2e286",
   "metadata": {},
   "source": [
    "# /="
   ]
  },
  {
   "cell_type": "code",
   "execution_count": 11,
   "id": "509f23bc",
   "metadata": {},
   "outputs": [
    {
     "name": "stdout",
     "output_type": "stream",
     "text": [
      "10.0\n"
     ]
    }
   ],
   "source": [
    "a = 100\n",
    "a = a/10\n",
    "print(a)"
   ]
  },
  {
   "cell_type": "code",
   "execution_count": 12,
   "id": "d210fc4b",
   "metadata": {},
   "outputs": [
    {
     "name": "stdout",
     "output_type": "stream",
     "text": [
      "10.0\n"
     ]
    }
   ],
   "source": [
    "a = 100\n",
    "a /= 10\n",
    "print(a)"
   ]
  },
  {
   "cell_type": "markdown",
   "id": "a8929efb",
   "metadata": {},
   "source": [
    "# //="
   ]
  },
  {
   "cell_type": "code",
   "execution_count": 14,
   "id": "36c84290",
   "metadata": {},
   "outputs": [
    {
     "name": "stdout",
     "output_type": "stream",
     "text": [
      "47\n"
     ]
    }
   ],
   "source": [
    "a =1000\n",
    "a =a //21\n",
    "print(a)"
   ]
  },
  {
   "cell_type": "code",
   "execution_count": 16,
   "id": "1ad87ee5",
   "metadata": {},
   "outputs": [
    {
     "data": {
      "text/plain": [
       "47"
      ]
     },
     "execution_count": 16,
     "metadata": {},
     "output_type": "execute_result"
    }
   ],
   "source": [
    "1000//21\n"
   ]
  },
  {
   "cell_type": "markdown",
   "id": "5a116ab7",
   "metadata": {},
   "source": [
    "# %="
   ]
  },
  {
   "cell_type": "code",
   "execution_count": 20,
   "id": "5173863b",
   "metadata": {},
   "outputs": [
    {
     "name": "stdout",
     "output_type": "stream",
     "text": [
      "10\n"
     ]
    }
   ],
   "source": [
    "a = 100\n",
    "a = a%15\n",
    "print(a)"
   ]
  },
  {
   "cell_type": "code",
   "execution_count": 21,
   "id": "52418590",
   "metadata": {},
   "outputs": [
    {
     "name": "stdout",
     "output_type": "stream",
     "text": [
      "100\n"
     ]
    }
   ],
   "source": [
    "a = 10\n",
    "a**=2\n",
    "print(a)"
   ]
  },
  {
   "cell_type": "markdown",
   "id": "6736a660",
   "metadata": {},
   "source": [
    "# comparision operator \n",
    "    ==  -->if the values are equal than return true otherwise return False __eq__\n",
    "    >   :-> Greater than --> __gt__ \n",
    "    <   :-> Less than --> __lt__\n",
    "    >=  :-> Greater than equal --> __ge__\n",
    "    <=  :-> less than equal --> __le__\n",
    "    !=  :-> not equal\n",
    "    "
   ]
  },
  {
   "cell_type": "code",
   "execution_count": 22,
   "id": "daface68",
   "metadata": {},
   "outputs": [
    {
     "data": {
      "text/plain": [
       "True"
      ]
     },
     "execution_count": 22,
     "metadata": {},
     "output_type": "execute_result"
    }
   ],
   "source": [
    "a =10\n",
    "b = 10\n",
    "a==b"
   ]
  },
  {
   "cell_type": "code",
   "execution_count": 23,
   "id": "c30c9aa4",
   "metadata": {},
   "outputs": [
    {
     "data": {
      "text/plain": [
       "False"
      ]
     },
     "execution_count": 23,
     "metadata": {},
     "output_type": "execute_result"
    }
   ],
   "source": [
    "a = 10\n",
    "b = 11\n",
    "a==b\n"
   ]
  },
  {
   "cell_type": "code",
   "execution_count": 24,
   "id": "bbb2aa0f",
   "metadata": {},
   "outputs": [
    {
     "data": {
      "text/plain": [
       "True"
      ]
     },
     "execution_count": 24,
     "metadata": {},
     "output_type": "execute_result"
    }
   ],
   "source": [
    "a =100\n",
    "b = 100\n",
    "a==b"
   ]
  },
  {
   "cell_type": "code",
   "execution_count": 26,
   "id": "608d3420",
   "metadata": {},
   "outputs": [
    {
     "data": {
      "text/plain": [
       "False"
      ]
     },
     "execution_count": 26,
     "metadata": {},
     "output_type": "execute_result"
    }
   ],
   "source": [
    "\"gaurav\"==\"Gaurav\""
   ]
  },
  {
   "cell_type": "code",
   "execution_count": 39,
   "id": "f7317b78",
   "metadata": {},
   "outputs": [
    {
     "data": {
      "text/plain": [
       "False"
      ]
     },
     "execution_count": 39,
     "metadata": {},
     "output_type": "execute_result"
    }
   ],
   "source": [
    "a = 110\n",
    "b = 110\n",
    "a>b"
   ]
  },
  {
   "cell_type": "code",
   "execution_count": 32,
   "id": "29906c13",
   "metadata": {},
   "outputs": [
    {
     "data": {
      "text/plain": [
       "True"
      ]
     },
     "execution_count": 32,
     "metadata": {},
     "output_type": "execute_result"
    }
   ],
   "source": [
    "a = 100\n",
    "b = 190\n",
    "\n",
    "a<b"
   ]
  },
  {
   "cell_type": "markdown",
   "id": "da0e91f7",
   "metadata": {},
   "source": [
    "# >="
   ]
  },
  {
   "cell_type": "code",
   "execution_count": 33,
   "id": "162c37b4",
   "metadata": {},
   "outputs": [
    {
     "data": {
      "text/plain": [
       "True"
      ]
     },
     "execution_count": 33,
     "metadata": {},
     "output_type": "execute_result"
    }
   ],
   "source": [
    "a = 10\n",
    "b = 10\n",
    "a>=b"
   ]
  },
  {
   "cell_type": "code",
   "execution_count": 34,
   "id": "48630f7b",
   "metadata": {},
   "outputs": [
    {
     "data": {
      "text/plain": [
       "True"
      ]
     },
     "execution_count": 34,
     "metadata": {},
     "output_type": "execute_result"
    }
   ],
   "source": [
    "a = 100\n",
    "b =20\n",
    "a>=b"
   ]
  },
  {
   "cell_type": "code",
   "execution_count": 35,
   "id": "0206ddb9",
   "metadata": {},
   "outputs": [
    {
     "data": {
      "text/plain": [
       "False"
      ]
     },
     "execution_count": 35,
     "metadata": {},
     "output_type": "execute_result"
    }
   ],
   "source": [
    "a = 100\n",
    "b = 30\n",
    "a<=b"
   ]
  },
  {
   "cell_type": "code",
   "execution_count": 41,
   "id": "6a6fe6ef",
   "metadata": {},
   "outputs": [
    {
     "data": {
      "text/plain": [
       "True"
      ]
     },
     "execution_count": 41,
     "metadata": {},
     "output_type": "execute_result"
    }
   ],
   "source": [
    "a = 100\n",
    "b = 90\n",
    "a>=b"
   ]
  },
  {
   "cell_type": "code",
   "execution_count": 42,
   "id": "b4f3bfba",
   "metadata": {},
   "outputs": [
    {
     "data": {
      "text/plain": [
       "True"
      ]
     },
     "execution_count": 42,
     "metadata": {},
     "output_type": "execute_result"
    }
   ],
   "source": [
    "a = 10\n",
    "b = 20\n",
    "a!=b"
   ]
  },
  {
   "cell_type": "markdown",
   "id": "fd4f87da",
   "metadata": {},
   "source": [
    "# Logical operator \n",
    "    And --> if both condition are true than return True otherwise return False  \n",
    "    or :-> if both condition are false than return False otherwise return True\n",
    "    not :-> if the condition is true than return False and if condition is False than return True"
   ]
  },
  {
   "cell_type": "markdown",
   "id": "74d63a71",
   "metadata": {},
   "source": [
    "# And"
   ]
  },
  {
   "cell_type": "code",
   "execution_count": 43,
   "id": "bded57f3",
   "metadata": {},
   "outputs": [
    {
     "data": {
      "text/plain": [
       "True"
      ]
     },
     "execution_count": 43,
     "metadata": {},
     "output_type": "execute_result"
    }
   ],
   "source": [
    "True and True"
   ]
  },
  {
   "cell_type": "code",
   "execution_count": 44,
   "id": "c661b770",
   "metadata": {},
   "outputs": [
    {
     "data": {
      "text/plain": [
       "False"
      ]
     },
     "execution_count": 44,
     "metadata": {},
     "output_type": "execute_result"
    }
   ],
   "source": [
    "True and False"
   ]
  },
  {
   "cell_type": "code",
   "execution_count": 45,
   "id": "75b5e9ef",
   "metadata": {},
   "outputs": [
    {
     "data": {
      "text/plain": [
       "False"
      ]
     },
     "execution_count": 45,
     "metadata": {},
     "output_type": "execute_result"
    }
   ],
   "source": [
    "False and False"
   ]
  },
  {
   "cell_type": "code",
   "execution_count": 50,
   "id": "b2d85ffe",
   "metadata": {},
   "outputs": [
    {
     "data": {
      "text/plain": [
       "'hello'"
      ]
     },
     "execution_count": 50,
     "metadata": {},
     "output_type": "execute_result"
    }
   ],
   "source": [
    "int(\"12\") and \"hello\""
   ]
  },
  {
   "cell_type": "code",
   "execution_count": 51,
   "id": "56ca8692",
   "metadata": {},
   "outputs": [
    {
     "data": {
      "text/plain": [
       "23"
      ]
     },
     "execution_count": 51,
     "metadata": {},
     "output_type": "execute_result"
    }
   ],
   "source": [
    "\"hello\" and 23"
   ]
  },
  {
   "cell_type": "code",
   "execution_count": 52,
   "id": "b2d9970a",
   "metadata": {},
   "outputs": [
    {
     "data": {
      "text/plain": [
       "0"
      ]
     },
     "execution_count": 52,
     "metadata": {},
     "output_type": "execute_result"
    }
   ],
   "source": [
    "0 and 1"
   ]
  },
  {
   "cell_type": "markdown",
   "id": "d64121f2",
   "metadata": {},
   "source": [
    "# \n",
    "    None\n",
    "    False\n",
    "    \"\"\n",
    "    {}\n",
    "    []\n",
    "    ()\n",
    "    0"
   ]
  },
  {
   "cell_type": "code",
   "execution_count": 57,
   "id": "10c090c1",
   "metadata": {},
   "outputs": [
    {
     "name": "stdout",
     "output_type": "stream",
     "text": [
      "True\n"
     ]
    }
   ],
   "source": [
    "print(True and True)"
   ]
  },
  {
   "cell_type": "markdown",
   "id": "c8e01a64",
   "metadata": {},
   "source": [
    "# or"
   ]
  },
  {
   "cell_type": "code",
   "execution_count": 58,
   "id": "0819f7c9",
   "metadata": {},
   "outputs": [
    {
     "data": {
      "text/plain": [
       "True"
      ]
     },
     "execution_count": 58,
     "metadata": {},
     "output_type": "execute_result"
    }
   ],
   "source": [
    "True or False"
   ]
  },
  {
   "cell_type": "code",
   "execution_count": 59,
   "id": "b00710b7",
   "metadata": {},
   "outputs": [
    {
     "data": {
      "text/plain": [
       "True"
      ]
     },
     "execution_count": 59,
     "metadata": {},
     "output_type": "execute_result"
    }
   ],
   "source": [
    "\"\" or True"
   ]
  },
  {
   "cell_type": "code",
   "execution_count": 60,
   "id": "52225abf",
   "metadata": {},
   "outputs": [
    {
     "data": {
      "text/plain": [
       "True"
      ]
     },
     "execution_count": 60,
     "metadata": {},
     "output_type": "execute_result"
    }
   ],
   "source": [
    "True or \"\""
   ]
  },
  {
   "cell_type": "code",
   "execution_count": 61,
   "id": "16ed132b",
   "metadata": {},
   "outputs": [
    {
     "data": {
      "text/plain": [
       "True"
      ]
     },
     "execution_count": 61,
     "metadata": {},
     "output_type": "execute_result"
    }
   ],
   "source": [
    "False or True"
   ]
  },
  {
   "cell_type": "code",
   "execution_count": 62,
   "id": "d8db733d",
   "metadata": {},
   "outputs": [
    {
     "data": {
      "text/plain": [
       "1"
      ]
     },
     "execution_count": 62,
     "metadata": {},
     "output_type": "execute_result"
    }
   ],
   "source": [
    "[] or 1"
   ]
  },
  {
   "cell_type": "code",
   "execution_count": 63,
   "id": "efe9b198",
   "metadata": {},
   "outputs": [
    {
     "data": {
      "text/plain": [
       "1"
      ]
     },
     "execution_count": 63,
     "metadata": {},
     "output_type": "execute_result"
    }
   ],
   "source": [
    "1 or \"\""
   ]
  },
  {
   "cell_type": "markdown",
   "id": "d9cfd0ad",
   "metadata": {},
   "source": [
    "# not "
   ]
  },
  {
   "cell_type": "code",
   "execution_count": 65,
   "id": "e20b3f72",
   "metadata": {},
   "outputs": [
    {
     "data": {
      "text/plain": [
       "True"
      ]
     },
     "execution_count": 65,
     "metadata": {},
     "output_type": "execute_result"
    }
   ],
   "source": [
    "a = \"\"\n",
    "not a"
   ]
  },
  {
   "cell_type": "markdown",
   "id": "e15f4108",
   "metadata": {},
   "source": [
    "# identity operator\n",
    "    is  --> if the id are match than return True otherwise return False \n",
    "    not is :-> if the id are not match than return True otherwise return False "
   ]
  },
  {
   "cell_type": "code",
   "execution_count": 66,
   "id": "273fa526",
   "metadata": {},
   "outputs": [
    {
     "data": {
      "text/plain": [
       "2110871267920"
      ]
     },
     "execution_count": 66,
     "metadata": {},
     "output_type": "execute_result"
    }
   ],
   "source": [
    "a = 10\n",
    "id(a)"
   ]
  },
  {
   "cell_type": "code",
   "execution_count": 67,
   "id": "887b4b28",
   "metadata": {},
   "outputs": [
    {
     "data": {
      "text/plain": [
       "2110871268240"
      ]
     },
     "execution_count": 67,
     "metadata": {},
     "output_type": "execute_result"
    }
   ],
   "source": [
    "b = 20\n",
    "id(b)"
   ]
  },
  {
   "cell_type": "code",
   "execution_count": 72,
   "id": "57e28f9f",
   "metadata": {},
   "outputs": [],
   "source": [
    "a = \"hello this is python\""
   ]
  },
  {
   "cell_type": "code",
   "execution_count": 73,
   "id": "a110fbbc",
   "metadata": {},
   "outputs": [],
   "source": [
    "b = \"hello this is python\""
   ]
  },
  {
   "cell_type": "code",
   "execution_count": 74,
   "id": "90f7b3cd",
   "metadata": {},
   "outputs": [
    {
     "data": {
      "text/plain": [
       "2110952585216"
      ]
     },
     "execution_count": 74,
     "metadata": {},
     "output_type": "execute_result"
    }
   ],
   "source": [
    "id(a)"
   ]
  },
  {
   "cell_type": "code",
   "execution_count": 75,
   "id": "7cfcbd35",
   "metadata": {},
   "outputs": [
    {
     "data": {
      "text/plain": [
       "2110952585856"
      ]
     },
     "execution_count": 75,
     "metadata": {},
     "output_type": "execute_result"
    }
   ],
   "source": [
    "id(b)"
   ]
  },
  {
   "cell_type": "code",
   "execution_count": 76,
   "id": "7f26bcd7",
   "metadata": {},
   "outputs": [
    {
     "data": {
      "text/plain": [
       "False"
      ]
     },
     "execution_count": 76,
     "metadata": {},
     "output_type": "execute_result"
    }
   ],
   "source": [
    "a is b"
   ]
  },
  {
   "cell_type": "code",
   "execution_count": 78,
   "id": "2490b210",
   "metadata": {},
   "outputs": [],
   "source": [
    "a = 10\n"
   ]
  },
  {
   "cell_type": "code",
   "execution_count": 79,
   "id": "b730d956",
   "metadata": {},
   "outputs": [],
   "source": [
    "b = 10"
   ]
  },
  {
   "cell_type": "code",
   "execution_count": 80,
   "id": "6de0e1d1",
   "metadata": {},
   "outputs": [
    {
     "data": {
      "text/plain": [
       "2110871267920"
      ]
     },
     "execution_count": 80,
     "metadata": {},
     "output_type": "execute_result"
    }
   ],
   "source": [
    "id(a)"
   ]
  },
  {
   "cell_type": "code",
   "execution_count": 81,
   "id": "5345b9b5",
   "metadata": {},
   "outputs": [
    {
     "data": {
      "text/plain": [
       "2110871267920"
      ]
     },
     "execution_count": 81,
     "metadata": {},
     "output_type": "execute_result"
    }
   ],
   "source": [
    "id(b)"
   ]
  },
  {
   "cell_type": "code",
   "execution_count": 82,
   "id": "256f9ff8",
   "metadata": {},
   "outputs": [
    {
     "data": {
      "text/plain": [
       "True"
      ]
     },
     "execution_count": 82,
     "metadata": {},
     "output_type": "execute_result"
    }
   ],
   "source": [
    "a is b"
   ]
  },
  {
   "cell_type": "code",
   "execution_count": 83,
   "id": "fc95cbf9",
   "metadata": {},
   "outputs": [],
   "source": [
    "a = \"hello\"\n"
   ]
  },
  {
   "cell_type": "code",
   "execution_count": 84,
   "id": "4f565645",
   "metadata": {},
   "outputs": [],
   "source": [
    "b = \"hello\""
   ]
  },
  {
   "cell_type": "code",
   "execution_count": 87,
   "id": "e2deae5c",
   "metadata": {},
   "outputs": [
    {
     "data": {
      "text/plain": [
       "True"
      ]
     },
     "execution_count": 87,
     "metadata": {},
     "output_type": "execute_result"
    }
   ],
   "source": [
    "a is b"
   ]
  },
  {
   "cell_type": "code",
   "execution_count": 85,
   "id": "bc98601a",
   "metadata": {},
   "outputs": [
    {
     "data": {
      "text/plain": [
       "2110947407152"
      ]
     },
     "execution_count": 85,
     "metadata": {},
     "output_type": "execute_result"
    }
   ],
   "source": [
    "id(a)"
   ]
  },
  {
   "cell_type": "code",
   "execution_count": 86,
   "id": "22196059",
   "metadata": {},
   "outputs": [
    {
     "data": {
      "text/plain": [
       "2110947407152"
      ]
     },
     "execution_count": 86,
     "metadata": {},
     "output_type": "execute_result"
    }
   ],
   "source": [
    "id(b)"
   ]
  },
  {
   "cell_type": "code",
   "execution_count": 88,
   "id": "d31d6018",
   "metadata": {},
   "outputs": [],
   "source": [
    "a = 300\n"
   ]
  },
  {
   "cell_type": "code",
   "execution_count": 89,
   "id": "6795a4c3",
   "metadata": {},
   "outputs": [],
   "source": [
    "b = 300"
   ]
  },
  {
   "cell_type": "code",
   "execution_count": 90,
   "id": "621ff1a2",
   "metadata": {},
   "outputs": [
    {
     "data": {
      "text/plain": [
       "True"
      ]
     },
     "execution_count": 90,
     "metadata": {},
     "output_type": "execute_result"
    }
   ],
   "source": [
    "a ==b"
   ]
  },
  {
   "cell_type": "code",
   "execution_count": 91,
   "id": "660d6f93",
   "metadata": {},
   "outputs": [
    {
     "data": {
      "text/plain": [
       "False"
      ]
     },
     "execution_count": 91,
     "metadata": {},
     "output_type": "execute_result"
    }
   ],
   "source": [
    "a is b"
   ]
  },
  {
   "cell_type": "code",
   "execution_count": 92,
   "id": "84fd88ad",
   "metadata": {},
   "outputs": [
    {
     "data": {
      "text/plain": [
       "2110952595696"
      ]
     },
     "execution_count": 92,
     "metadata": {},
     "output_type": "execute_result"
    }
   ],
   "source": [
    "id(a)"
   ]
  },
  {
   "cell_type": "code",
   "execution_count": 93,
   "id": "10e68699",
   "metadata": {},
   "outputs": [
    {
     "data": {
      "text/plain": [
       "2110952597360"
      ]
     },
     "execution_count": 93,
     "metadata": {},
     "output_type": "execute_result"
    }
   ],
   "source": [
    "id(b)"
   ]
  },
  {
   "cell_type": "code",
   "execution_count": 94,
   "id": "bf9d5202",
   "metadata": {},
   "outputs": [],
   "source": [
    "a = 256\n"
   ]
  },
  {
   "cell_type": "code",
   "execution_count": 95,
   "id": "c0d3988b",
   "metadata": {},
   "outputs": [],
   "source": [
    "b = 256"
   ]
  },
  {
   "cell_type": "code",
   "execution_count": 96,
   "id": "d645527f",
   "metadata": {},
   "outputs": [
    {
     "data": {
      "text/plain": [
       "2110871464336"
      ]
     },
     "execution_count": 96,
     "metadata": {},
     "output_type": "execute_result"
    }
   ],
   "source": [
    "id(a)"
   ]
  },
  {
   "cell_type": "code",
   "execution_count": 97,
   "id": "0f78b8cb",
   "metadata": {},
   "outputs": [
    {
     "data": {
      "text/plain": [
       "2110871464336"
      ]
     },
     "execution_count": 97,
     "metadata": {},
     "output_type": "execute_result"
    }
   ],
   "source": [
    "id(b)"
   ]
  },
  {
   "cell_type": "code",
   "execution_count": 98,
   "id": "66e3dc19",
   "metadata": {},
   "outputs": [
    {
     "data": {
      "text/plain": [
       "True"
      ]
     },
     "execution_count": 98,
     "metadata": {},
     "output_type": "execute_result"
    }
   ],
   "source": [
    "a is b"
   ]
  },
  {
   "cell_type": "code",
   "execution_count": 99,
   "id": "485685ac",
   "metadata": {},
   "outputs": [],
   "source": [
    "a = 257\n",
    "b = 257"
   ]
  },
  {
   "cell_type": "code",
   "execution_count": 100,
   "id": "146689d2",
   "metadata": {},
   "outputs": [
    {
     "data": {
      "text/plain": [
       "2110952598352"
      ]
     },
     "execution_count": 100,
     "metadata": {},
     "output_type": "execute_result"
    }
   ],
   "source": [
    "id(a)"
   ]
  },
  {
   "cell_type": "code",
   "execution_count": 101,
   "id": "a286ac6b",
   "metadata": {},
   "outputs": [
    {
     "data": {
      "text/plain": [
       "2110952597968"
      ]
     },
     "execution_count": 101,
     "metadata": {},
     "output_type": "execute_result"
    }
   ],
   "source": [
    "id(b)"
   ]
  },
  {
   "cell_type": "code",
   "execution_count": 102,
   "id": "8da08c15",
   "metadata": {},
   "outputs": [
    {
     "data": {
      "text/plain": [
       "False"
      ]
     },
     "execution_count": 102,
     "metadata": {},
     "output_type": "execute_result"
    }
   ],
   "source": [
    "a is b"
   ]
  },
  {
   "cell_type": "code",
   "execution_count": 104,
   "id": "44772f92",
   "metadata": {},
   "outputs": [
    {
     "data": {
      "text/plain": [
       "True"
      ]
     },
     "execution_count": 104,
     "metadata": {},
     "output_type": "execute_result"
    }
   ],
   "source": [
    "a  is not b"
   ]
  },
  {
   "cell_type": "markdown",
   "id": "cef5ca81",
   "metadata": {},
   "source": [
    "# membership \n",
    "    check wether it is a memeber of particular iterable or not \n",
    "        in \n",
    "        not in"
   ]
  },
  {
   "cell_type": "code",
   "execution_count": 105,
   "id": "2ec444fb",
   "metadata": {},
   "outputs": [],
   "source": [
    "a = \"hello python this is true or not true\""
   ]
  },
  {
   "cell_type": "code",
   "execution_count": 112,
   "id": "4472a1d0",
   "metadata": {},
   "outputs": [
    {
     "data": {
      "text/plain": [
       "True"
      ]
     },
     "execution_count": 112,
     "metadata": {},
     "output_type": "execute_result"
    }
   ],
   "source": [
    "check = \"i\"\n",
    "check in a"
   ]
  },
  {
   "cell_type": "code",
   "execution_count": 113,
   "id": "943704c1",
   "metadata": {},
   "outputs": [
    {
     "data": {
      "text/plain": [
       "True"
      ]
     },
     "execution_count": 113,
     "metadata": {},
     "output_type": "execute_result"
    }
   ],
   "source": [
    "b = \"gaurav\"\n",
    "b not in a"
   ]
  },
  {
   "cell_type": "code",
   "execution_count": 121,
   "id": "78e825ac",
   "metadata": {},
   "outputs": [
    {
     "data": {
      "text/plain": [
       "False"
      ]
     },
     "execution_count": 121,
     "metadata": {},
     "output_type": "execute_result"
    }
   ],
   "source": [
    "a =\"ua\"\n",
    "b = \"gaurav\"\n",
    "a in b"
   ]
  },
  {
   "cell_type": "code",
   "execution_count": 124,
   "id": "b07e0638",
   "metadata": {},
   "outputs": [
    {
     "data": {
      "text/plain": [
       "True"
      ]
     },
     "execution_count": 124,
     "metadata": {},
     "output_type": "execute_result"
    }
   ],
   "source": [
    "a =  [10000,2]\n",
    "2 in a"
   ]
  },
  {
   "cell_type": "markdown",
   "id": "34089c90",
   "metadata": {},
   "source": [
    "# Bitwise operator\n",
    "      & --> bitwise and operator \n",
    "      | --> bitwise or operator  \n",
    "      ^ --> bitwise xor orerator\n",
    "      ~ --> bitwise not operator \n",
    "     << --> bitwise left shift operator\n",
    "     >> --> bitwise right shift operator"
   ]
  },
  {
   "cell_type": "code",
   "execution_count": 1,
   "id": "6119b389",
   "metadata": {},
   "outputs": [],
   "source": [
    "a = 10 #1010\n",
    "b = 6 #0110\n",
    "#0010\n",
    "#2\n",
    "res = a&b"
   ]
  },
  {
   "cell_type": "code",
   "execution_count": 2,
   "id": "63b289e7",
   "metadata": {},
   "outputs": [
    {
     "name": "stdout",
     "output_type": "stream",
     "text": [
      "2\n"
     ]
    }
   ],
   "source": [
    "print(res)"
   ]
  },
  {
   "cell_type": "code",
   "execution_count": 3,
   "id": "864d7268",
   "metadata": {},
   "outputs": [
    {
     "name": "stdout",
     "output_type": "stream",
     "text": [
      "3\n"
     ]
    }
   ],
   "source": [
    "a = 19\n",
    "b =11\n",
    "res = a&b\n",
    "print(res)"
   ]
  },
  {
   "cell_type": "markdown",
   "id": "b41dcb6d",
   "metadata": {},
   "source": [
    "# |"
   ]
  },
  {
   "cell_type": "code",
   "execution_count": 4,
   "id": "1e240ed5",
   "metadata": {},
   "outputs": [
    {
     "name": "stdout",
     "output_type": "stream",
     "text": [
      "15\n"
     ]
    }
   ],
   "source": [
    "a = 10\n",
    "b = 5\n",
    "#1010\n",
    "#0101\n",
    "#1111\n",
    "#15\n",
    "res = a|b\n",
    "print(res)"
   ]
  },
  {
   "cell_type": "markdown",
   "id": "57887a1b",
   "metadata": {},
   "source": [
    "# ^"
   ]
  },
  {
   "cell_type": "code",
   "execution_count": 5,
   "id": "eb077c2e",
   "metadata": {},
   "outputs": [
    {
     "data": {
      "text/plain": [
       "8"
      ]
     },
     "execution_count": 5,
     "metadata": {},
     "output_type": "execute_result"
    }
   ],
   "source": [
    "a = 11\n",
    "b =3\n",
    "a^b"
   ]
  },
  {
   "cell_type": "markdown",
   "id": "838fa249",
   "metadata": {},
   "source": [
    "# ~"
   ]
  },
  {
   "cell_type": "code",
   "execution_count": 6,
   "id": "96a1444d",
   "metadata": {},
   "outputs": [
    {
     "data": {
      "text/plain": [
       "-11"
      ]
     },
     "execution_count": 6,
     "metadata": {},
     "output_type": "execute_result"
    }
   ],
   "source": [
    "a = 10\n",
    "~a"
   ]
  },
  {
   "cell_type": "code",
   "execution_count": 7,
   "id": "9044b8cd",
   "metadata": {},
   "outputs": [
    {
     "data": {
      "text/plain": [
       "-101"
      ]
     },
     "execution_count": 7,
     "metadata": {},
     "output_type": "execute_result"
    }
   ],
   "source": [
    "a = 100\n",
    "~a# (100+1)*-1--> -101"
   ]
  },
  {
   "cell_type": "code",
   "execution_count": 8,
   "id": "3ae263d1",
   "metadata": {},
   "outputs": [
    {
     "data": {
      "text/plain": [
       "-57"
      ]
     },
     "execution_count": 8,
     "metadata": {},
     "output_type": "execute_result"
    }
   ],
   "source": [
    "a = 56\n",
    "~a"
   ]
  },
  {
   "cell_type": "markdown",
   "id": "774f6c75",
   "metadata": {},
   "source": [
    "# <<"
   ]
  },
  {
   "cell_type": "code",
   "execution_count": 9,
   "id": "e0107e20",
   "metadata": {},
   "outputs": [
    {
     "data": {
      "text/plain": [
       "80"
      ]
     },
     "execution_count": 9,
     "metadata": {},
     "output_type": "execute_result"
    }
   ],
   "source": [
    "a = 10\n",
    "a<<3"
   ]
  },
  {
   "cell_type": "markdown",
   "id": "76542f37",
   "metadata": {},
   "source": [
    "# >>"
   ]
  },
  {
   "cell_type": "code",
   "execution_count": 10,
   "id": "0f0908dd",
   "metadata": {},
   "outputs": [
    {
     "data": {
      "text/plain": [
       "0"
      ]
     },
     "execution_count": 10,
     "metadata": {},
     "output_type": "execute_result"
    }
   ],
   "source": [
    "a = 16\n",
    "a>>5"
   ]
  },
  {
   "cell_type": "code",
   "execution_count": null,
   "id": "5034eb42",
   "metadata": {},
   "outputs": [],
   "source": []
  }
 ],
 "metadata": {
  "kernelspec": {
   "display_name": "Python 3 (ipykernel)",
   "language": "python",
   "name": "python3"
  },
  "language_info": {
   "codemirror_mode": {
    "name": "ipython",
    "version": 3
   },
   "file_extension": ".py",
   "mimetype": "text/x-python",
   "name": "python",
   "nbconvert_exporter": "python",
   "pygments_lexer": "ipython3",
   "version": "3.11.5"
  }
 },
 "nbformat": 4,
 "nbformat_minor": 5
}
