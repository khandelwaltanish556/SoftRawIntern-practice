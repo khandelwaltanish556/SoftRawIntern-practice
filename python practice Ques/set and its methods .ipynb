{
 "cells": [
  {
   "cell_type": "markdown",
   "id": "6433c6bd",
   "metadata": {},
   "source": [
    "#  set data type \n",
    "    --> mutable data type \n",
    "    --> unordered data type \n",
    "    --> {}\n",
    "    --> only store unique values\n",
    "    --> unindexed "
   ]
  },
  {
   "cell_type": "code",
   "execution_count": 6,
   "id": "6439e5f7",
   "metadata": {},
   "outputs": [],
   "source": [
    "s = {1,2,3,4,5,6}"
   ]
  },
  {
   "cell_type": "code",
   "execution_count": 2,
   "id": "6eadf27d",
   "metadata": {},
   "outputs": [
    {
     "name": "stdout",
     "output_type": "stream",
     "text": [
      "{1, 2, 3, 4, 5, 6}\n"
     ]
    }
   ],
   "source": [
    "print(s)"
   ]
  },
  {
   "cell_type": "code",
   "execution_count": 7,
   "id": "d9eb9760",
   "metadata": {},
   "outputs": [
    {
     "data": {
      "text/plain": [
       "{1, 2, 3, 4, 5, 6}"
      ]
     },
     "execution_count": 7,
     "metadata": {},
     "output_type": "execute_result"
    }
   ],
   "source": [
    "s"
   ]
  },
  {
   "cell_type": "code",
   "execution_count": 3,
   "id": "4edf60dc",
   "metadata": {},
   "outputs": [
    {
     "name": "stdout",
     "output_type": "stream",
     "text": [
      "{1, 2, 3, 4, 5, 8, 9, 10, 11}\n"
     ]
    }
   ],
   "source": [
    "s1 = {1,2,3,4,5,11,2,3,4,5,1,9,10,8}\n",
    "print(s1)"
   ]
  },
  {
   "cell_type": "code",
   "execution_count": 11,
   "id": "9a488ad1",
   "metadata": {},
   "outputs": [],
   "source": [
    "s1 = {1000,1001,10.5,12,3,6,5}"
   ]
  },
  {
   "cell_type": "code",
   "execution_count": 12,
   "id": "592ffd9a",
   "metadata": {},
   "outputs": [
    {
     "name": "stdout",
     "output_type": "stream",
     "text": [
      "{3, 5, 6, 1000, 1001, 10.5, 12}\n"
     ]
    }
   ],
   "source": [
    "print(s1)"
   ]
  },
  {
   "cell_type": "code",
   "execution_count": 13,
   "id": "79cae428",
   "metadata": {},
   "outputs": [
    {
     "data": {
      "text/plain": [
       "{3, 5, 6, 10.5, 12, 1000, 1001}"
      ]
     },
     "execution_count": 13,
     "metadata": {},
     "output_type": "execute_result"
    }
   ],
   "source": [
    "s1"
   ]
  },
  {
   "cell_type": "code",
   "execution_count": 17,
   "id": "4aadc029",
   "metadata": {},
   "outputs": [],
   "source": [
    "s2 = {(0,1,2,4,5,6),'hello world',}"
   ]
  },
  {
   "cell_type": "code",
   "execution_count": 18,
   "id": "9c0e7d03",
   "metadata": {},
   "outputs": [
    {
     "name": "stdout",
     "output_type": "stream",
     "text": [
      "{'hello world', (0, 1, 2, 4, 5, 6)}\n"
     ]
    }
   ],
   "source": [
    "print(s2)"
   ]
  },
  {
   "cell_type": "code",
   "execution_count": 20,
   "id": "7abc4d7f",
   "metadata": {},
   "outputs": [
    {
     "data": {
      "text/plain": [
       "['__and__',\n",
       " '__class__',\n",
       " '__class_getitem__',\n",
       " '__contains__',\n",
       " '__delattr__',\n",
       " '__dir__',\n",
       " '__doc__',\n",
       " '__eq__',\n",
       " '__format__',\n",
       " '__ge__',\n",
       " '__getattribute__',\n",
       " '__gt__',\n",
       " '__hash__',\n",
       " '__iand__',\n",
       " '__init__',\n",
       " '__init_subclass__',\n",
       " '__ior__',\n",
       " '__isub__',\n",
       " '__iter__',\n",
       " '__ixor__',\n",
       " '__le__',\n",
       " '__len__',\n",
       " '__lt__',\n",
       " '__ne__',\n",
       " '__new__',\n",
       " '__or__',\n",
       " '__rand__',\n",
       " '__reduce__',\n",
       " '__reduce_ex__',\n",
       " '__repr__',\n",
       " '__ror__',\n",
       " '__rsub__',\n",
       " '__rxor__',\n",
       " '__setattr__',\n",
       " '__sizeof__',\n",
       " '__str__',\n",
       " '__sub__',\n",
       " '__subclasshook__',\n",
       " '__xor__',\n",
       " 'add',\n",
       " 'clear',\n",
       " 'copy',\n",
       " 'difference',\n",
       " 'difference_update',\n",
       " 'discard',\n",
       " 'intersection',\n",
       " 'intersection_update',\n",
       " 'isdisjoint',\n",
       " 'issubset',\n",
       " 'issuperset',\n",
       " 'pop',\n",
       " 'remove',\n",
       " 'symmetric_difference',\n",
       " 'symmetric_difference_update',\n",
       " 'union',\n",
       " 'update']"
      ]
     },
     "execution_count": 20,
     "metadata": {},
     "output_type": "execute_result"
    }
   ],
   "source": [
    "dir(s)"
   ]
  },
  {
   "cell_type": "markdown",
   "id": "d0c08317",
   "metadata": {},
   "source": [
    "    'add',  :--> add an element to set\n",
    "     'clear', :--> clear all element from set \n",
    "     'copy', --> return a shallow copy\n",
    "     'difference', :--calculate the difference between two set \n",
    "     'difference_update',--> \n",
    "     'discard',\n",
    "     'intersection', :--> common values in both set \n",
    "     'intersection_update',\n",
    "     'isdisjoint',\n",
    "     'issubset',\n",
    "     'issuperset',\n",
    "     'pop',:-> remove item from starting\n",
    "     'remove',:-> remove and element on the basis of key\n",
    "     'symmetric_difference',\n",
    "     'symmetric_difference_update',\n",
    "     'union',--> all element present in both set\n",
    "     'update' :--> "
   ]
  },
  {
   "cell_type": "markdown",
   "id": "7e5ae714",
   "metadata": {},
   "source": [
    "# add "
   ]
  },
  {
   "cell_type": "code",
   "execution_count": 7,
   "id": "cb17f16b",
   "metadata": {},
   "outputs": [],
   "source": [
    "s = {1,2,3,4,5,6,7}"
   ]
  },
  {
   "cell_type": "code",
   "execution_count": 8,
   "id": "82d818e6",
   "metadata": {},
   "outputs": [],
   "source": [
    "s.add('shyam')"
   ]
  },
  {
   "cell_type": "code",
   "execution_count": 9,
   "id": "e5d2b8ca",
   "metadata": {},
   "outputs": [
    {
     "data": {
      "text/plain": [
       "{1, 2, 3, 4, 5, 6, 7, 'shyam'}"
      ]
     },
     "execution_count": 9,
     "metadata": {},
     "output_type": "execute_result"
    }
   ],
   "source": [
    "s"
   ]
  },
  {
   "cell_type": "code",
   "execution_count": 10,
   "id": "970ccb30",
   "metadata": {},
   "outputs": [
    {
     "name": "stdout",
     "output_type": "stream",
     "text": [
      "{1, 2, 3, 4, 5, 6, 7, 'shyam'}\n"
     ]
    }
   ],
   "source": [
    "print(s)"
   ]
  },
  {
   "cell_type": "code",
   "execution_count": 11,
   "id": "cba30568",
   "metadata": {},
   "outputs": [],
   "source": [
    "s.add(0)"
   ]
  },
  {
   "cell_type": "code",
   "execution_count": 12,
   "id": "94311406",
   "metadata": {},
   "outputs": [
    {
     "data": {
      "text/plain": [
       "{0, 1, 2, 3, 4, 5, 6, 7, 'shyam'}"
      ]
     },
     "execution_count": 12,
     "metadata": {},
     "output_type": "execute_result"
    }
   ],
   "source": [
    "s"
   ]
  },
  {
   "cell_type": "code",
   "execution_count": 13,
   "id": "e0bc863d",
   "metadata": {},
   "outputs": [],
   "source": [
    "s.add('a')"
   ]
  },
  {
   "cell_type": "code",
   "execution_count": 14,
   "id": "bf08cb77",
   "metadata": {},
   "outputs": [
    {
     "data": {
      "text/plain": [
       "{0, 1, 2, 3, 4, 5, 6, 7, 'a', 'shyam'}"
      ]
     },
     "execution_count": 14,
     "metadata": {},
     "output_type": "execute_result"
    }
   ],
   "source": [
    "s"
   ]
  },
  {
   "cell_type": "code",
   "execution_count": 15,
   "id": "e28d4755",
   "metadata": {},
   "outputs": [],
   "source": [
    "s.add('yash')"
   ]
  },
  {
   "cell_type": "code",
   "execution_count": 16,
   "id": "f52f8f63",
   "metadata": {},
   "outputs": [
    {
     "data": {
      "text/plain": [
       "{0, 1, 2, 3, 4, 5, 6, 7, 'a', 'shyam', 'yash'}"
      ]
     },
     "execution_count": 16,
     "metadata": {},
     "output_type": "execute_result"
    }
   ],
   "source": [
    "s"
   ]
  },
  {
   "cell_type": "code",
   "execution_count": 17,
   "id": "70953177",
   "metadata": {},
   "outputs": [
    {
     "name": "stdout",
     "output_type": "stream",
     "text": [
      "{0, 1, 2, 3, 4, 5, 6, 7, 'yash', 'shyam', 'a'}\n"
     ]
    }
   ],
   "source": [
    "print(s)"
   ]
  },
  {
   "cell_type": "code",
   "execution_count": 19,
   "id": "10564f4d",
   "metadata": {},
   "outputs": [],
   "source": [
    "s.add(20000)"
   ]
  },
  {
   "cell_type": "code",
   "execution_count": 20,
   "id": "8574a0ea",
   "metadata": {},
   "outputs": [
    {
     "name": "stdout",
     "output_type": "stream",
     "text": [
      "{0, 1, 2, 3, 4, 5, 6, 7, 'yash', 10000, 20000, 'shyam', 'a'}\n"
     ]
    }
   ],
   "source": [
    "print(s)"
   ]
  },
  {
   "cell_type": "code",
   "execution_count": 21,
   "id": "888edc48",
   "metadata": {},
   "outputs": [
    {
     "data": {
      "text/plain": [
       "{'hello python', 'mohan', 'ram', 'sohan'}"
      ]
     },
     "execution_count": 21,
     "metadata": {},
     "output_type": "execute_result"
    }
   ],
   "source": [
    "s2"
   ]
  },
  {
   "cell_type": "code",
   "execution_count": 22,
   "id": "963192c1",
   "metadata": {},
   "outputs": [],
   "source": [
    "s2.clear()"
   ]
  },
  {
   "cell_type": "code",
   "execution_count": 23,
   "id": "e3d3bc15",
   "metadata": {},
   "outputs": [
    {
     "name": "stdout",
     "output_type": "stream",
     "text": [
      "set()\n"
     ]
    }
   ],
   "source": [
    "print(s2)"
   ]
  },
  {
   "cell_type": "markdown",
   "id": "189ac7c4",
   "metadata": {},
   "source": [
    "# copy\n",
    "    -"
   ]
  },
  {
   "cell_type": "code",
   "execution_count": 24,
   "id": "51c78cad",
   "metadata": {},
   "outputs": [],
   "source": [
    "s = {1,2,3,4,5}"
   ]
  },
  {
   "cell_type": "code",
   "execution_count": 25,
   "id": "a26bcd75",
   "metadata": {},
   "outputs": [],
   "source": [
    "ls = s.copy()"
   ]
  },
  {
   "cell_type": "code",
   "execution_count": 26,
   "id": "5a713044",
   "metadata": {},
   "outputs": [
    {
     "name": "stdout",
     "output_type": "stream",
     "text": [
      "{1, 2, 3, 4, 5}\n"
     ]
    }
   ],
   "source": [
    "print(ls)"
   ]
  },
  {
   "cell_type": "markdown",
   "id": "7279c54d",
   "metadata": {},
   "source": [
    "# pop"
   ]
  },
  {
   "cell_type": "code",
   "execution_count": 27,
   "id": "27a079ef",
   "metadata": {},
   "outputs": [
    {
     "name": "stdout",
     "output_type": "stream",
     "text": [
      "{1, 2, 3, 4, 5}\n"
     ]
    }
   ],
   "source": [
    "print(s)"
   ]
  },
  {
   "cell_type": "code",
   "execution_count": 28,
   "id": "5362279c",
   "metadata": {},
   "outputs": [
    {
     "data": {
      "text/plain": [
       "1"
      ]
     },
     "execution_count": 28,
     "metadata": {},
     "output_type": "execute_result"
    }
   ],
   "source": [
    "s.pop()"
   ]
  },
  {
   "cell_type": "code",
   "execution_count": 29,
   "id": "fc2df6ba",
   "metadata": {},
   "outputs": [
    {
     "name": "stdout",
     "output_type": "stream",
     "text": [
      "{2, 3, 4, 5}\n"
     ]
    }
   ],
   "source": [
    "print(s)"
   ]
  },
  {
   "cell_type": "code",
   "execution_count": 30,
   "id": "d0c7acf2",
   "metadata": {},
   "outputs": [
    {
     "data": {
      "text/plain": [
       "{2, 3, 4, 5}"
      ]
     },
     "execution_count": 30,
     "metadata": {},
     "output_type": "execute_result"
    }
   ],
   "source": [
    "s "
   ]
  },
  {
   "cell_type": "code",
   "execution_count": 31,
   "id": "4dfb2f44",
   "metadata": {},
   "outputs": [
    {
     "data": {
      "text/plain": [
       "2"
      ]
     },
     "execution_count": 31,
     "metadata": {},
     "output_type": "execute_result"
    }
   ],
   "source": [
    "s.pop()"
   ]
  },
  {
   "cell_type": "code",
   "execution_count": 32,
   "id": "597ea240",
   "metadata": {},
   "outputs": [
    {
     "name": "stdout",
     "output_type": "stream",
     "text": [
      "{3, 4, 5}\n"
     ]
    }
   ],
   "source": [
    "print(s)"
   ]
  },
  {
   "cell_type": "markdown",
   "id": "15460ab1",
   "metadata": {},
   "source": [
    "# remove"
   ]
  },
  {
   "cell_type": "code",
   "execution_count": 35,
   "id": "9981f91c",
   "metadata": {},
   "outputs": [
    {
     "name": "stdout",
     "output_type": "stream",
     "text": [
      "{3, 4, 5}\n"
     ]
    }
   ],
   "source": [
    "print(s)"
   ]
  },
  {
   "cell_type": "markdown",
   "id": "7513d46a",
   "metadata": {},
   "source": [
    "# update"
   ]
  },
  {
   "cell_type": "code",
   "execution_count": 37,
   "id": "e312acae",
   "metadata": {},
   "outputs": [],
   "source": [
    "s.update(['hello python','sachin','sim'])"
   ]
  },
  {
   "cell_type": "code",
   "execution_count": 38,
   "id": "14284a2b",
   "metadata": {},
   "outputs": [
    {
     "data": {
      "text/plain": [
       "{3, 4, 5, 'hello python', 'sachin', 'sim'}"
      ]
     },
     "execution_count": 38,
     "metadata": {},
     "output_type": "execute_result"
    }
   ],
   "source": [
    "s"
   ]
  },
  {
   "cell_type": "markdown",
   "id": "acff0def",
   "metadata": {},
   "source": [
    "# union"
   ]
  },
  {
   "cell_type": "code",
   "execution_count": 39,
   "id": "a2d784ae",
   "metadata": {},
   "outputs": [],
   "source": [
    "s1 = {1,2,3,4,5,6}\n",
    "s2 = {'mohan','sohan','ram','hello python'}"
   ]
  },
  {
   "cell_type": "code",
   "execution_count": 40,
   "id": "f93a376d",
   "metadata": {},
   "outputs": [],
   "source": [
    "a =s2.union(s1)"
   ]
  },
  {
   "cell_type": "code",
   "execution_count": 41,
   "id": "4e897452",
   "metadata": {},
   "outputs": [
    {
     "name": "stdout",
     "output_type": "stream",
     "text": [
      "{1, 'hello python', 'sohan', 2, 3, 4, 5, 'ram', 6, 'mohan'}\n"
     ]
    }
   ],
   "source": [
    "print(a)"
   ]
  },
  {
   "cell_type": "code",
   "execution_count": 42,
   "id": "31735d79",
   "metadata": {},
   "outputs": [
    {
     "name": "stdout",
     "output_type": "stream",
     "text": [
      "{1, 2, 3, 4, 5, 6}\n"
     ]
    }
   ],
   "source": [
    "print(s1)"
   ]
  },
  {
   "cell_type": "code",
   "execution_count": 43,
   "id": "1e71bccf",
   "metadata": {},
   "outputs": [
    {
     "name": "stdout",
     "output_type": "stream",
     "text": [
      "{'ram', 'mohan', 'hello python', 'sohan'}\n"
     ]
    }
   ],
   "source": [
    "print(s2)"
   ]
  },
  {
   "cell_type": "code",
   "execution_count": 44,
   "id": "6ce57351",
   "metadata": {},
   "outputs": [],
   "source": [
    "b = {1,2,3,4,'mahesh',1000,'199','python','12131',31114}"
   ]
  },
  {
   "cell_type": "code",
   "execution_count": 45,
   "id": "6dba64ec",
   "metadata": {},
   "outputs": [
    {
     "data": {
      "text/plain": [
       "{1, 1000, '12131', '199', 2, 3, 31114, 4, 'mahesh', 'python'}"
      ]
     },
     "execution_count": 45,
     "metadata": {},
     "output_type": "execute_result"
    }
   ],
   "source": [
    "b"
   ]
  },
  {
   "cell_type": "code",
   "execution_count": 46,
   "id": "d7752e34",
   "metadata": {},
   "outputs": [
    {
     "name": "stdout",
     "output_type": "stream",
     "text": [
      "{1, 2, 3, 4, '12131', 1000, '199', 31114, 'python', 'mahesh'}\n"
     ]
    }
   ],
   "source": [
    "print(b)"
   ]
  },
  {
   "cell_type": "markdown",
   "id": "b58f54ee",
   "metadata": {},
   "source": [
    "#'intersection',\n",
    "     'intersection_update',"
   ]
  },
  {
   "cell_type": "code",
   "execution_count": 47,
   "id": "4e9e3fdb",
   "metadata": {},
   "outputs": [],
   "source": [
    "s1 = {1,2,3,4,5,6,7,8,9}\n",
    "s2 = {'gaurav','shubham','12',7,8,9,0,20}"
   ]
  },
  {
   "cell_type": "code",
   "execution_count": 48,
   "id": "f0944382",
   "metadata": {},
   "outputs": [
    {
     "data": {
      "text/plain": [
       "{7, 8, 9}"
      ]
     },
     "execution_count": 48,
     "metadata": {},
     "output_type": "execute_result"
    }
   ],
   "source": [
    "s1.intersection(s2)"
   ]
  },
  {
   "cell_type": "code",
   "execution_count": 49,
   "id": "b743dd71",
   "metadata": {},
   "outputs": [
    {
     "data": {
      "text/plain": [
       "{7, 8, 9}"
      ]
     },
     "execution_count": 49,
     "metadata": {},
     "output_type": "execute_result"
    }
   ],
   "source": [
    "s2.intersection(s1)"
   ]
  },
  {
   "cell_type": "code",
   "execution_count": 50,
   "id": "f7f32028",
   "metadata": {},
   "outputs": [
    {
     "name": "stdout",
     "output_type": "stream",
     "text": [
      "{1, 2, 3, 4, 5, 6, 7, 8, 9}\n"
     ]
    }
   ],
   "source": [
    "print(s1)"
   ]
  },
  {
   "cell_type": "code",
   "execution_count": 51,
   "id": "5e6b5c0a",
   "metadata": {},
   "outputs": [
    {
     "name": "stdout",
     "output_type": "stream",
     "text": [
      "{0, 7, 8, 9, 'shubham', 20, 'gaurav', '12'}\n"
     ]
    }
   ],
   "source": [
    "print(s2)"
   ]
  },
  {
   "cell_type": "markdown",
   "id": "da128132",
   "metadata": {},
   "source": [
    "# intersection_update"
   ]
  },
  {
   "cell_type": "code",
   "execution_count": 52,
   "id": "c895ba78",
   "metadata": {},
   "outputs": [],
   "source": [
    "s1 = {1,2,3,4}\n",
    "s2 = {5,6,7,8,9,0,10,20}"
   ]
  },
  {
   "cell_type": "code",
   "execution_count": 53,
   "id": "cf6f2f38",
   "metadata": {},
   "outputs": [],
   "source": [
    "a = s1.intersection_update(s2)"
   ]
  },
  {
   "cell_type": "code",
   "execution_count": 54,
   "id": "2d7f513a",
   "metadata": {},
   "outputs": [
    {
     "name": "stdout",
     "output_type": "stream",
     "text": [
      "None\n"
     ]
    }
   ],
   "source": [
    "print(a)"
   ]
  },
  {
   "cell_type": "code",
   "execution_count": 55,
   "id": "f94009ff",
   "metadata": {},
   "outputs": [
    {
     "name": "stdout",
     "output_type": "stream",
     "text": [
      "set()\n"
     ]
    }
   ],
   "source": [
    "print(s1)"
   ]
  },
  {
   "cell_type": "code",
   "execution_count": 56,
   "id": "95c32577",
   "metadata": {},
   "outputs": [
    {
     "name": "stdout",
     "output_type": "stream",
     "text": [
      "{0, 5, 6, 7, 8, 9, 10, 20}\n"
     ]
    }
   ],
   "source": [
    "print(s2)"
   ]
  },
  {
   "cell_type": "code",
   "execution_count": 57,
   "id": "43c94f14",
   "metadata": {},
   "outputs": [],
   "source": [
    "s1 = {'hello','python','java','hii','how'}\n",
    "s2 = {\n",
    "    'this','that' , 'how','hii','python ','java'\n",
    "}"
   ]
  },
  {
   "cell_type": "code",
   "execution_count": 58,
   "id": "3eeeddb2",
   "metadata": {},
   "outputs": [],
   "source": [
    "s2.intersection_update(s1)"
   ]
  },
  {
   "cell_type": "code",
   "execution_count": 59,
   "id": "9cdeedc6",
   "metadata": {},
   "outputs": [
    {
     "name": "stdout",
     "output_type": "stream",
     "text": [
      "{'how', 'hello', 'java', 'hii', 'python'}\n"
     ]
    }
   ],
   "source": [
    "print(s1)"
   ]
  },
  {
   "cell_type": "code",
   "execution_count": 60,
   "id": "1e42a5ba",
   "metadata": {},
   "outputs": [
    {
     "name": "stdout",
     "output_type": "stream",
     "text": [
      "{'how', 'java', 'hii'}\n"
     ]
    }
   ],
   "source": [
    "print(s2)"
   ]
  },
  {
   "cell_type": "code",
   "execution_count": 62,
   "id": "763c62d3",
   "metadata": {},
   "outputs": [],
   "source": [
    "s1 = {1,2,3,4,5}\n",
    "s2 = {1,2,3,7,8,9}\n",
    "s3 = {1,2,4,6,7,8,9,3}\n",
    "\n",
    "s4 = s1.intersection(s2.intersection(s3))\n"
   ]
  },
  {
   "cell_type": "code",
   "execution_count": 63,
   "id": "0a6399ea",
   "metadata": {},
   "outputs": [
    {
     "name": "stdout",
     "output_type": "stream",
     "text": [
      "{1, 2, 3}\n"
     ]
    }
   ],
   "source": [
    "print(s4)"
   ]
  },
  {
   "cell_type": "code",
   "execution_count": null,
   "id": "94efdeae",
   "metadata": {},
   "outputs": [],
   "source": []
  }
 ],
 "metadata": {
  "kernelspec": {
   "display_name": "Python 3 (ipykernel)",
   "language": "python",
   "name": "python3"
  },
  "language_info": {
   "codemirror_mode": {
    "name": "ipython",
    "version": 3
   },
   "file_extension": ".py",
   "mimetype": "text/x-python",
   "name": "python",
   "nbconvert_exporter": "python",
   "pygments_lexer": "ipython3",
   "version": "3.11.5"
  }
 },
 "nbformat": 4,
 "nbformat_minor": 5
}
