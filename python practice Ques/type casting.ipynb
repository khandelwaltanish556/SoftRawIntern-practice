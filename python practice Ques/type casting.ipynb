{
 "cells": [
  {
   "cell_type": "markdown",
   "id": "f0da02fb",
   "metadata": {},
   "source": [
    "# type casting \n",
    "    convert one type to another type \n",
    "        data type one to another type \n",
    "        "
   ]
  },
  {
   "cell_type": "code",
   "execution_count": 1,
   "id": "7cc064f3",
   "metadata": {},
   "outputs": [],
   "source": [
    "a = \"10\""
   ]
  },
  {
   "cell_type": "code",
   "execution_count": 4,
   "id": "de3f4f30",
   "metadata": {},
   "outputs": [
    {
     "data": {
      "text/plain": [
       "10"
      ]
     },
     "execution_count": 4,
     "metadata": {},
     "output_type": "execute_result"
    }
   ],
   "source": [
    "int(a)#base --> 10--> decimal value "
   ]
  },
  {
   "cell_type": "code",
   "execution_count": 5,
   "id": "0a12050c",
   "metadata": {},
   "outputs": [],
   "source": [
    "a = \"10.3\""
   ]
  },
  {
   "cell_type": "code",
   "execution_count": 12,
   "id": "925aded3",
   "metadata": {},
   "outputs": [],
   "source": [
    "a = 10.999"
   ]
  },
  {
   "cell_type": "code",
   "execution_count": 13,
   "id": "470be39c",
   "metadata": {},
   "outputs": [
    {
     "data": {
      "text/plain": [
       "10"
      ]
     },
     "execution_count": 13,
     "metadata": {},
     "output_type": "execute_result"
    }
   ],
   "source": [
    "int(a)"
   ]
  },
  {
   "cell_type": "code",
   "execution_count": 15,
   "id": "18724b62",
   "metadata": {},
   "outputs": [
    {
     "data": {
      "text/plain": [
       "10"
      ]
     },
     "execution_count": 15,
     "metadata": {},
     "output_type": "execute_result"
    }
   ],
   "source": [
    "round(10.4)"
   ]
  },
  {
   "cell_type": "code",
   "execution_count": 16,
   "id": "66ef3ca4",
   "metadata": {},
   "outputs": [
    {
     "data": {
      "text/plain": [
       "10.0"
      ]
     },
     "execution_count": 16,
     "metadata": {},
     "output_type": "execute_result"
    }
   ],
   "source": [
    "float(10)"
   ]
  },
  {
   "cell_type": "code",
   "execution_count": 17,
   "id": "da3dd4b9",
   "metadata": {},
   "outputs": [],
   "source": [
    "a =\"10.5\""
   ]
  },
  {
   "cell_type": "code",
   "execution_count": 18,
   "id": "14df1148",
   "metadata": {},
   "outputs": [
    {
     "data": {
      "text/plain": [
       "10.5"
      ]
     },
     "execution_count": 18,
     "metadata": {},
     "output_type": "execute_result"
    }
   ],
   "source": [
    "float(a)"
   ]
  },
  {
   "cell_type": "markdown",
   "id": "3b93b16e",
   "metadata": {},
   "source": [
    "# decimal to binary"
   ]
  },
  {
   "cell_type": "code",
   "execution_count": 20,
   "id": "9b47aa6b",
   "metadata": {},
   "outputs": [],
   "source": [
    "a = 10"
   ]
  },
  {
   "cell_type": "code",
   "execution_count": 21,
   "id": "1b8c697a",
   "metadata": {},
   "outputs": [
    {
     "data": {
      "text/plain": [
       "'0b1010'"
      ]
     },
     "execution_count": 21,
     "metadata": {},
     "output_type": "execute_result"
    }
   ],
   "source": [
    "bin(a)"
   ]
  },
  {
   "cell_type": "code",
   "execution_count": 24,
   "id": "c67a81da",
   "metadata": {},
   "outputs": [],
   "source": [
    "a = 0b1010#base --> 2"
   ]
  },
  {
   "cell_type": "code",
   "execution_count": 27,
   "id": "7e91e6e6",
   "metadata": {},
   "outputs": [
    {
     "data": {
      "text/plain": [
       "10"
      ]
     },
     "execution_count": 27,
     "metadata": {},
     "output_type": "execute_result"
    }
   ],
   "source": [
    "int(a)"
   ]
  },
  {
   "cell_type": "code",
   "execution_count": 28,
   "id": "9dbd89ff",
   "metadata": {},
   "outputs": [
    {
     "data": {
      "text/plain": [
       "512"
      ]
     },
     "execution_count": 28,
     "metadata": {},
     "output_type": "execute_result"
    }
   ],
   "source": [
    "8**3"
   ]
  },
  {
   "cell_type": "code",
   "execution_count": 29,
   "id": "496d4154",
   "metadata": {},
   "outputs": [
    {
     "data": {
      "text/plain": [
       "'0o144'"
      ]
     },
     "execution_count": 29,
     "metadata": {},
     "output_type": "execute_result"
    }
   ],
   "source": [
    "a = 100\n",
    "oct(a)"
   ]
  },
  {
   "cell_type": "markdown",
   "id": "14a627ef",
   "metadata": {},
   "source": [
    "# hexadecimal"
   ]
  },
  {
   "cell_type": "markdown",
   "id": "84fb8b8d",
   "metadata": {},
   "source": [
    "16"
   ]
  },
  {
   "cell_type": "code",
   "execution_count": null,
   "id": "b9ec69f2",
   "metadata": {},
   "outputs": [],
   "source": [
    "a = 100\n",
    "hex(a)"
   ]
  },
  {
   "cell_type": "code",
   "execution_count": 30,
   "id": "3c3ee534",
   "metadata": {},
   "outputs": [
    {
     "data": {
      "text/plain": [
       "256"
      ]
     },
     "execution_count": 30,
     "metadata": {},
     "output_type": "execute_result"
    }
   ],
   "source": [
    "16**2"
   ]
  },
  {
   "cell_type": "code",
   "execution_count": 31,
   "id": "280a4a41",
   "metadata": {},
   "outputs": [
    {
     "data": {
      "text/plain": [
       "4096"
      ]
     },
     "execution_count": 31,
     "metadata": {},
     "output_type": "execute_result"
    }
   ],
   "source": [
    "16**3"
   ]
  },
  {
   "cell_type": "code",
   "execution_count": 32,
   "id": "d082fb0c",
   "metadata": {},
   "outputs": [],
   "source": [
    "a = 100"
   ]
  },
  {
   "cell_type": "code",
   "execution_count": 33,
   "id": "05e71473",
   "metadata": {},
   "outputs": [
    {
     "data": {
      "text/plain": [
       "'0x64'"
      ]
     },
     "execution_count": 33,
     "metadata": {},
     "output_type": "execute_result"
    }
   ],
   "source": [
    "hex(a)"
   ]
  }
 ],
 "metadata": {
  "kernelspec": {
   "display_name": "Python 3 (ipykernel)",
   "language": "python",
   "name": "python3"
  },
  "language_info": {
   "codemirror_mode": {
    "name": "ipython",
    "version": 3
   },
   "file_extension": ".py",
   "mimetype": "text/x-python",
   "name": "python",
   "nbconvert_exporter": "python",
   "pygments_lexer": "ipython3",
   "version": "3.11.5"
  }
 },
 "nbformat": 4,
 "nbformat_minor": 5
}
